{
 "cells": [
  {
   "cell_type": "code",
   "execution_count": 1,
   "metadata": {},
   "outputs": [],
   "source": [
    "import nltk"
   ]
  },
  {
   "cell_type": "code",
   "execution_count": 3,
   "metadata": {},
   "outputs": [],
   "source": [
    "messages = [line.rstrip() for line in open('smsspamcollection/SMSSpamCollection')]"
   ]
  },
  {
   "cell_type": "code",
   "execution_count": 4,
   "metadata": {},
   "outputs": [
    {
     "data": {
      "text/plain": [
       "['ham\\tGo until jurong point, crazy.. Available only in bugis n great world la e buffet... Cine there got amore wat...',\n",
       " 'ham\\tOk lar... Joking wif u oni...',\n",
       " \"spam\\tFree entry in 2 a wkly comp to win FA Cup final tkts 21st May 2005. Text FA to 87121 to receive entry question(std txt rate)T&C's apply 08452810075over18's\",\n",
       " 'ham\\tU dun say so early hor... U c already then say...',\n",
       " \"ham\\tNah I don't think he goes to usf, he lives around here though\",\n",
       " \"spam\\tFreeMsg Hey there darling it's been 3 week's now and no word back! I'd like some fun you up for it still? Tb ok! XxX std chgs to send, £1.50 to rcv\",\n",
       " 'ham\\tEven my brother is not like to speak with me. They treat me like aids patent.',\n",
       " \"ham\\tAs per your request 'Melle Melle (Oru Minnaminunginte Nurungu Vettam)' has been set as your callertune for all Callers. Press *9 to copy your friends Callertune\",\n",
       " 'spam\\tWINNER!! As a valued network customer you have been selected to receivea £900 prize reward! To claim call 09061701461. Claim code KL341. Valid 12 hours only.',\n",
       " 'spam\\tHad your mobile 11 months or more? U R entitled to Update to the latest colour mobiles with camera for Free! Call The Mobile Update Co FREE on 08002986030',\n",
       " \"ham\\tI'm gonna be home soon and i don't want to talk about this stuff anymore tonight, k? I've cried enough today.\",\n",
       " 'spam\\tSIX chances to win CASH! From 100 to 20,000 pounds txt> CSH11 and send to 87575. Cost 150p/day, 6days, 16+ TsandCs apply Reply HL 4 info',\n",
       " 'spam\\tURGENT! You have won a 1 week FREE membership in our £100,000 Prize Jackpot! Txt the word: CLAIM to No: 81010 T&C www.dbuk.net LCCLTD POBOX 4403LDNW1A7RW18',\n",
       " \"ham\\tI've been searching for the right words to thank you for this breather. I promise i wont take your help for granted and will fulfil my promise. You have been wonderful and a blessing at all times.\",\n",
       " 'ham\\tI HAVE A DATE ON SUNDAY WITH WILL!!',\n",
       " 'spam\\tXXXMobileMovieClub: To use your credit, click the WAP link in the next txt message or click here>> http://wap. xxxmobilemovieclub.com?n=QJKGIGHJJGCBL',\n",
       " \"ham\\tOh k...i'm watching here:)\",\n",
       " 'ham\\tEh u remember how 2 spell his name... Yes i did. He v naughty make until i v wet.',\n",
       " 'ham\\tFine if that\\x92s the way u feel. That\\x92s the way its gota b',\n",
       " 'spam\\tEngland v Macedonia - dont miss the goals/team news. Txt ur national team to 87077 eg ENGLAND to 87077 Try:WALES, SCOTLAND 4txt/ú1.20 POBOXox36504W45WQ 16+',\n",
       " 'ham\\tIs that seriously how you spell his name?',\n",
       " 'ham\\tI‘m going to try for 2 months ha ha only joking',\n",
       " 'ham\\tSo ü pay first lar... Then when is da stock comin...',\n",
       " 'ham\\tAft i finish my lunch then i go str down lor. Ard 3 smth lor. U finish ur lunch already?',\n",
       " 'ham\\tFfffffffff. Alright no way I can meet up with you sooner?',\n",
       " \"ham\\tJust forced myself to eat a slice. I'm really not hungry tho. This sucks. Mark is getting worried. He knows I'm sick when I turn down pizza. Lol\",\n",
       " 'ham\\tLol your always so convincing.',\n",
       " \"ham\\tDid you catch the bus ? Are you frying an egg ? Did you make a tea? Are you eating your mom's left over dinner ? Do you feel my Love ?\",\n",
       " \"ham\\tI'm back &amp; we're packing the car now, I'll let you know if there's room\",\n",
       " 'ham\\tAhhh. Work. I vaguely remember that! What does it feel like? Lol',\n",
       " \"ham\\tWait that's still not all that clear, were you not sure about me being sarcastic or that that's why x doesn't want to live with us\",\n",
       " \"ham\\tYeah he got in at 2 and was v apologetic. n had fallen out and she was actin like spoilt child and he got caught up in that. Till 2! But we won't go there! Not doing too badly cheers. You?\",\n",
       " 'ham\\tK tell me anything about you.',\n",
       " 'ham\\tFor fear of fainting with the of all that housework you just did? Quick have a cuppa',\n",
       " 'spam\\tThanks for your subscription to Ringtone UK your mobile will be charged £5/month Please confirm by replying YES or NO. If you reply NO you will not be charged',\n",
       " 'ham\\tYup... Ok i go home look at the timings then i msg ü again... Xuhui going to learn on 2nd may too but her lesson is at 8am',\n",
       " \"ham\\tOops, I'll let you know when my roommate's done\",\n",
       " 'ham\\tI see the letter B on my car',\n",
       " 'ham\\tAnything lor... U decide...',\n",
       " \"ham\\tHello! How's you and how did saturday go? I was just texting to see if you'd decided to do anything tomo. Not that i'm trying to invite myself or anything!\",\n",
       " 'ham\\tPls go ahead with watts. I just wanted to be sure. Do have a great weekend. Abiola',\n",
       " 'ham\\tDid I forget to tell you ? I want you , I need you, I crave you ... But most of all ... I love you my sweet Arabian steed ... Mmmmmm ... Yummy',\n",
       " 'spam\\t07732584351 - Rodger Burns - MSG = We tried to call you re your reply to our sms for a free nokia mobile + free camcorder. Please call now 08000930705 for delivery tomorrow',\n",
       " 'ham\\tWHO ARE YOU SEEING?',\n",
       " 'ham\\tGreat! I hope you like your man well endowed. I am  &lt;#&gt;  inches...',\n",
       " 'ham\\tNo calls..messages..missed calls',\n",
       " \"ham\\tDidn't you get hep b immunisation in nigeria.\",\n",
       " 'ham\\tFair enough, anything going on?',\n",
       " \"ham\\tYeah hopefully, if tyler can't do it I could maybe ask around a bit\",\n",
       " \"ham\\tU don't know how stubborn I am. I didn't even want to go to the hospital. I kept telling Mark I'm not a weak sucker. Hospitals are for weak suckers.\",\n",
       " 'ham\\tWhat you thinked about me. First time you saw me in class.',\n",
       " 'ham\\tA gram usually runs like  &lt;#&gt; , a half eighth is smarter though and gets you almost a whole second gram for  &lt;#&gt;',\n",
       " \"ham\\tK fyi x has a ride early tomorrow morning but he's crashing at our place tonight\",\n",
       " 'ham\\tWow. I never realized that you were so embarassed by your accomodations. I thought you liked it, since i was doing the best i could and you always seemed so happy about \"the cave\". I\\'m sorry I didn\\'t and don\\'t have more to give. I\\'m sorry i offered. I\\'m sorry your room was so embarassing.',\n",
       " 'spam\\tSMS. ac Sptv: The New Jersey Devils and the Detroit Red Wings play Ice Hockey. Correct or Incorrect? End? Reply END SPTV',\n",
       " 'ham\\tDo you know what Mallika Sherawat did yesterday? Find out now @  &lt;URL&gt;',\n",
       " 'spam\\tCongrats! 1 year special cinema pass for 2 is yours. call 09061209465 now! C Suprman V, Matrix3, StarWars3, etc all 4 FREE! bx420-ip4-5we. 150pm. Dont miss out!',\n",
       " \"ham\\tSorry, I'll call later in meeting.\",\n",
       " 'ham\\tTell where you reached',\n",
       " 'ham\\tYes..gauti and sehwag out of odi series.',\n",
       " \"ham\\tYour gonna have to pick up a $1 burger for yourself on your way home. I can't even move. Pain is killing me.\",\n",
       " 'ham\\tHa ha ha good joke. Girls are situation seekers.',\n",
       " 'ham\\tIts a part of checking IQ',\n",
       " 'ham\\tSorry my roommates took forever, it ok if I come by now?',\n",
       " 'ham\\tOk lar i double check wif da hair dresser already he said wun cut v short. He said will cut until i look nice.',\n",
       " 'spam\\tAs a valued customer, I am pleased to advise you that following recent review of your Mob No. you are awarded with a £1500 Bonus Prize, call 09066364589',\n",
       " 'ham\\tToday is \"song dedicated day..\" Which song will u dedicate for me? Send this to all ur valuable frnds but first rply me...',\n",
       " 'spam\\tUrgent UR awarded a complimentary trip to EuroDisinc Trav, Aco&Entry41 Or £1000. To claim txt DIS to 87121 18+6*£1.50(moreFrmMob. ShrAcomOrSglSuplt)10, LS1 3AJ',\n",
       " 'spam\\tDid you hear about the new \"Divorce Barbie\"? It comes with all of Ken\\'s stuff!',\n",
       " 'ham\\tI plane to give on this month end.',\n",
       " 'ham\\tWah lucky man... Then can save money... Hee...',\n",
       " 'ham\\tFinished class where are you.',\n",
       " 'ham\\tHI BABE IM AT HOME NOW WANNA DO SOMETHING? XX',\n",
       " 'ham\\tK..k:)where are you?how did you performed?',\n",
       " 'ham\\tU can call me now...',\n",
       " 'ham\\tI am waiting machan. Call me once you free.',\n",
       " 'ham\\tThats cool. i am a gentleman and will treat you with dignity and respect.',\n",
       " 'ham\\tI like you peoples very much:) but am very shy pa.',\n",
       " 'ham\\tDoes not operate after  &lt;#&gt;  or what',\n",
       " \"ham\\tIts not the same here. Still looking for a job. How much do Ta's earn there.\",\n",
       " \"ham\\tSorry, I'll call later\",\n",
       " 'ham\\tK. Did you call me just now ah?',\n",
       " 'ham\\tOk i am on the way to home hi hi',\n",
       " 'ham\\tYou will be in the place of that man',\n",
       " 'ham\\tYup next stop.',\n",
       " \"ham\\tI call you later, don't have network. If urgnt, sms me.\",\n",
       " \"ham\\tFor real when u getting on yo? I only need 2 more tickets and one more jacket and I'm done. I already used all my multis.\",\n",
       " \"ham\\tYes I started to send requests to make it but pain came back so I'm back in bed. Double coins at the factory too. I gotta cash in all my nitros.\",\n",
       " \"ham\\tI'm really not up to it still tonight babe\",\n",
       " 'ham\\tEla kano.,il download, come wen ur free..',\n",
       " 'ham\\tYeah do! Don‘t stand to close tho- you‘ll catch something!',\n",
       " \"ham\\tSorry to be a pain. Is it ok if we meet another night? I spent late afternoon in casualty and that means i haven't done any of y stuff42moro and that includes all my time sheets and that. Sorry.\",\n",
       " 'ham\\tSmile in Pleasure Smile in Pain Smile when trouble pours like Rain Smile when sum1 Hurts U Smile becoz SOMEONE still Loves to see u Smiling!!',\n",
       " 'spam\\tPlease call our customer service representative on 0800 169 6031 between 10am-9pm as you have WON a guaranteed £1000 cash or £5000 prize!',\n",
       " 'ham\\tHavent planning to buy later. I check already lido only got 530 show in e afternoon. U finish work already?',\n",
       " 'spam\\tYour free ringtone is waiting to be collected. Simply text the password \"MIX\" to 85069 to verify. Get Usher and Britney. FML, PO Box 5249, MK17 92H. 450Ppw 16',\n",
       " 'ham\\tWatching telugu movie..wat abt u?',\n",
       " 'ham\\ti see. When we finish we have loads of loans to pay',\n",
       " 'ham\\tHi. Wk been ok - on hols now! Yes on for a bit of a run. Forgot that i have hairdressers appointment at four so need to get home n shower beforehand. Does that cause prob for u?\"',\n",
       " 'ham\\tI see a cup of coffee animation',\n",
       " \"ham\\tPlease don't text me anymore. I have nothing else to say.\",\n",
       " 'ham\\tOkay name ur price as long as its legal! Wen can I pick them up? Y u ave x ams xx',\n",
       " \"ham\\tI'm still looking for a car to buy. And have not gone 4the driving test yet.\",\n",
       " \"ham\\tAs per your request 'Melle Melle (Oru Minnaminunginte Nurungu Vettam)' has been set as your callertune for all Callers. Press *9 to copy your friends Callertune\",\n",
       " \"ham\\twow. You're right! I didn't mean to do that. I guess once i gave up on boston men and changed my search location to nyc, something changed. Cuz on my signin page it still says boston.\",\n",
       " 'ham\\tUmma my life and vava umma love you lot dear',\n",
       " 'ham\\tThanks a lot for your wishes on my birthday. Thanks you for making my birthday truly memorable.',\n",
       " \"ham\\tAight, I'll hit you up when I get some cash\",\n",
       " \"ham\\tHow would my ip address test that considering my computer isn't a minecraft server\",\n",
       " 'ham\\tI know! Grumpy old people. My mom was like you better not be lying. Then again I am always the one to play jokes...',\n",
       " \"ham\\tDont worry. I guess he's busy.\",\n",
       " 'ham\\tWhat is the plural of the noun research?',\n",
       " 'ham\\tGoing for dinner.msg you after.',\n",
       " \"ham\\tI'm ok wif it cos i like 2 try new things. But i scared u dun like mah. Cos u said not too loud.\",\n",
       " 'spam\\tGENT! We are trying to contact you. Last weekends draw shows that you won a £1000 prize GUARANTEED. Call 09064012160. Claim Code K52. Valid 12hrs only. 150ppm',\n",
       " \"ham\\tWa, ur openin sentence very formal... Anyway, i'm fine too, juz tt i'm eatin too much n puttin on weight...Haha... So anythin special happened?\",\n",
       " \"ham\\tAs I entered my cabin my PA said, '' Happy B'day Boss !!''. I felt special. She askd me 4 lunch. After lunch she invited me to her apartment. We went there.\",\n",
       " 'spam\\tYou are a winner U have been specially selected 2 receive £1000 or a 4* holiday (flights inc) speak to a live operator 2 claim 0871277810910p/min (18+)',\n",
       " 'ham\\tGoodo! Yes we must speak friday - egg-potato ratio for tortilla needed!',\n",
       " \"ham\\tHmm...my uncle just informed me that he's paying the school directly. So pls buy food.\",\n",
       " 'spam\\tPRIVATE! Your 2004 Account Statement for 07742676969 shows 786 unredeemed Bonus Points. To claim call 08719180248 Identifier Code: 45239 Expires',\n",
       " 'spam\\tURGENT! Your Mobile No. was awarded £2000 Bonus Caller Prize on 5/9/03 This is our final try to contact U! Call from Landline 09064019788 BOX42WR29C, 150PPM',\n",
       " 'ham\\there is my new address -apples&pairs&all that malarky',\n",
       " 'spam\\tTodays Voda numbers ending 7548 are selected to receive a $350 award. If you have a match please call 08712300220 quoting claim code 4041 standard rates app',\n",
       " 'ham\\tI am going to sao mu today. Will be done only at 12',\n",
       " \"ham\\tÜ predict wat time ü'll finish buying?\",\n",
       " 'ham\\tGood stuff, will do.',\n",
       " \"ham\\tJust so that you know,yetunde hasn't sent money yet. I just sent her a text not to bother sending. So its over, you dont have to involve yourself in anything. I shouldn't have imposed anything on you in the first place so for that, i apologise.\",\n",
       " 'ham\\tAre you there in room.',\n",
       " 'ham\\tHEY GIRL. HOW R U? HOPE U R WELL ME AN DEL R BAK! AGAIN LONG TIME NO C! GIVE ME A CALL SUM TIME FROM LUCYxx',\n",
       " 'ham\\tK..k:)how much does it cost?',\n",
       " \"ham\\tI'm home.\",\n",
       " 'ham\\tDear, will call Tmorrow.pls accomodate.',\n",
       " 'ham\\tFirst answer my question.',\n",
       " 'spam\\tSunshine Quiz Wkly Q! Win a top Sony DVD player if u know which country the Algarve is in? Txt ansr to 82277. £1.50 SP:Tyrone',\n",
       " \"spam\\tWant 2 get laid tonight? Want real Dogging locations sent direct 2 ur mob? Join the UK's largest Dogging Network bt Txting GRAVEL to 69888! Nt. ec2a. 31p.msg@150p\",\n",
       " \"ham\\tI only haf msn. It's yijue@hotmail.com\",\n",
       " 'ham\\tHe is there. You call and meet him',\n",
       " 'ham\\tNo no. I will check all rooms befor activities',\n",
       " \"spam\\tYou'll not rcv any more msgs from the chat svc. For FREE Hardcore services text GO to: 69988 If u get nothing u must Age Verify with yr network & try again\",\n",
       " 'ham\\tGot c... I lazy to type... I forgot ü in lect... I saw a pouch but like not v nice...',\n",
       " \"ham\\tK, text me when you're on the way\",\n",
       " 'ham\\tSir, Waiting for your mail.',\n",
       " 'ham\\tA swt thought: \"Nver get tired of doing little things 4 lovable persons..\" Coz..somtimes those little things occupy d biggest part in their Hearts.. Gud ni8',\n",
       " 'ham\\tI know you are. Can you pls open the back?',\n",
       " 'ham\\tYes see ya not on the dot',\n",
       " 'ham\\tWhats the staff name who is taking class for us?',\n",
       " \"spam\\tFreeMsg Why haven't you replied to my text? I'm Randy, sexy, female and live local. Luv to hear from u. Netcollex Ltd 08700621170150p per msg reply Stop to end\",\n",
       " 'ham\\tUmmma.will call after check in.our life will begin from qatar so pls pray very hard.',\n",
       " 'ham\\tK..i deleted my contact that why?',\n",
       " 'ham\\tSindu got job in birla soft ..',\n",
       " \"ham\\tThe wine is flowing and i'm i have nevering..\",\n",
       " 'ham\\tYup i thk cine is better cos no need 2 go down 2 plaza mah.',\n",
       " 'ham\\tOk... Ur typical reply...',\n",
       " \"ham\\tAs per your request 'Melle Melle (Oru Minnaminunginte Nurungu Vettam)' has been set as your callertune for all Callers. Press *9 to copy your friends Callertune\",\n",
       " 'ham\\tYou are everywhere dirt, on the floor, the windows, even on my shirt. And sometimes when i open my mouth, you are all that comes flowing out. I dream of my world without you, then half my chores are out too. A time of joy for me, lots of tv shows i.ll see. But i guess like all things you just must exist, like rain, hail and mist, and when my time here is done, you and i become one.',\n",
       " 'ham\\tAaooooright are you at work?',\n",
       " \"ham\\tI'm leaving my house now...\",\n",
       " 'ham\\tHello, my love. What are you doing? Did you get to that interview today? Are you you happy? Are you being a good boy? Do you think of me?Are you missing me ?',\n",
       " 'spam\\tCustomer service annoncement. You have a New Years delivery waiting for you. Please call 07046744435 now to arrange delivery',\n",
       " 'spam\\tYou are a winner U have been specially selected 2 receive £1000 cash or a 4* holiday (flights inc) speak to a live operator 2 claim 0871277810810',\n",
       " \"ham\\tKeep yourself safe for me because I need you and I miss you already and I envy everyone that see's you in real life\",\n",
       " 'ham\\tNew car and house for my parents.:)i have only new job in hand:)',\n",
       " \"ham\\tI'm so in love with you. I'm excited each day i spend with you. You make me so happy.\",\n",
       " 'spam\\t-PLS STOP bootydelious (32/F) is inviting you to be her friend. Reply YES-434 or NO-434 See her: www.SMS.ac/u/bootydelious STOP? Send STOP FRND to 62468',\n",
       " 'spam\\tBangBabes Ur order is on the way. U SHOULD receive a Service Msg 2 download UR content. If U do not, GoTo wap. bangb. tv on UR mobile internet/service menu',\n",
       " 'ham\\tI place all ur points on e cultures module already.',\n",
       " 'spam\\tURGENT! We are trying to contact you. Last weekends draw shows that you have won a £900 prize GUARANTEED. Call 09061701939. Claim code S89. Valid 12hrs only',\n",
       " \"ham\\tHi frnd, which is best way to avoid missunderstding wit our beloved one's?\",\n",
       " 'ham\\tGreat escape. I fancy the bridge but needs her lager. See you tomo',\n",
       " 'ham\\tYes :)it completely in out of form:)clark also utter waste.',\n",
       " 'ham\\tSir, I need AXIS BANK account no and bank address.',\n",
       " 'ham\\tHmmm.. Thk sure got time to hop ard... Ya, can go 4 free abt... Muz call u to discuss liao...',\n",
       " 'ham\\tWhat time you coming down later?',\n",
       " 'ham\\tBloody hell, cant believe you forgot my surname Mr . Ill give u a clue, its spanish and begins with m...',\n",
       " \"ham\\tWell, i'm gonna finish my bath now. Have a good...fine night.\",\n",
       " \"ham\\tLet me know when you've got the money so carlos can make the call\",\n",
       " 'ham\\tU still going to the mall?',\n",
       " \"ham\\tTurns out my friends are staying for the whole show and won't be back til ~ &lt;#&gt; , so feel free to go ahead and smoke that $ &lt;#&gt;  worth\",\n",
       " 'ham\\tText her. If she doesnt reply let me know so i can have her log in',\n",
       " \"ham\\tHi! You just spoke to MANEESHA V. We'd like to know if you were satisfied with the experience. Reply Toll Free with Yes or No.\",\n",
       " 'ham\\tYou lifted my hopes with the offer of money. I am in need. Especially when the end of the month approaches and it hurts my studying. Anyways have a gr8 weekend',\n",
       " 'ham\\tLol no. U can trust me.',\n",
       " 'ham\\tok. I am a gentleman and will treat you with dignity and respect.',\n",
       " 'ham\\tHe will, you guys close?',\n",
       " 'ham\\tGoing on nothing great.bye',\n",
       " \"ham\\tHello handsome ! Are you finding that job ? Not being lazy ? Working towards getting back that net for mummy ? Where's my boytoy now ? Does he miss me ?\",\n",
       " 'ham\\tHaha awesome, be there in a minute',\n",
       " 'spam\\tPlease call our customer service representative on FREEPHONE 0808 145 4742 between 9am-11pm as you have WON a guaranteed £1000 cash or £5000 prize!',\n",
       " 'ham\\tHave you got Xmas radio times. If not i will get it now',\n",
       " 'ham\\tI jus reached home. I go bathe first. But my sis using net tell u when she finishes k...',\n",
       " 'spam\\tAre you unique enough? Find out from 30th August. www.areyouunique.co.uk',\n",
       " \"ham\\tI'm sorry. I've joined the league of people that dont keep in touch. You mean a great deal to me. You have been a friend at all times even at great personal cost. Do have a great week.|\",\n",
       " 'ham\\tHi :)finally i completed the course:)',\n",
       " 'ham\\tIt will stop on itself. I however suggest she stays with someone that will be able to give ors for every stool.',\n",
       " \"ham\\tHow are you doing? Hope you've settled in for the new school year. Just wishin you a gr8 day\",\n",
       " 'ham\\tGud mrng dear hav a nice day',\n",
       " 'ham\\tDid u got that persons story',\n",
       " 'ham\\tis your hamster dead? Hey so tmr i meet you at 1pm orchard mrt?',\n",
       " 'ham\\tHi its Kate how is your evening? I hope i can see you tomorrow for a bit but i have to bloody babyjontet! Txt back if u can. :) xxx',\n",
       " 'ham\\tFound it, ENC  &lt;#&gt; , where you at?',\n",
       " 'ham\\tI sent you  &lt;#&gt;  bucks',\n",
       " 'ham\\tHello darlin ive finished college now so txt me when u finish if u can love Kate xxx',\n",
       " 'ham\\tYour account has been refilled successfully by INR  &lt;DECIMAL&gt; . Your KeralaCircle prepaid account balance is Rs  &lt;DECIMAL&gt; . Your Transaction ID is KR &lt;#&gt; .',\n",
       " 'ham\\tGoodmorning sleeping ga.',\n",
       " 'ham\\tU call me alter at 11 ok.',\n",
       " 'ham\\tÜ say until like dat i dun buy ericsson oso cannot oredi lar...',\n",
       " \"ham\\tAs I entered my cabin my PA said, '' Happy B'day Boss !!''. I felt special. She askd me 4 lunch. After lunch she invited me to her apartment. We went there.\",\n",
       " 'ham\\tAight yo, dats straight dogg',\n",
       " 'ham\\tYou please give us connection today itself before  &lt;DECIMAL&gt;  or refund the bill',\n",
       " 'ham\\tBoth :) i shoot big loads so get ready!',\n",
       " \"ham\\tWhat's up bruv, hope you had a great break. Do have a rewarding semester.\",\n",
       " 'ham\\tHome so we can always chat',\n",
       " 'ham\\tK:)k:)good:)study well.',\n",
       " 'ham\\tYup... How ü noe leh...',\n",
       " 'ham\\tSounds great! Are you home now?',\n",
       " 'ham\\tFinally the match heading towards draw as your prediction.',\n",
       " \"ham\\tTired. I haven't slept well the past few nights.\",\n",
       " 'ham\\tEasy ah?sen got selected means its good..',\n",
       " 'ham\\tI have to take exam with march 3',\n",
       " \"ham\\tYeah you should. I think you can use your gt atm now to register. Not sure but if there's anyway i can help let me know. But when you do be sure you are ready.\",\n",
       " 'ham\\tOk no prob. Take ur time.',\n",
       " 'ham\\tThere is os called ubandu which will run without installing in hard disk...you can use that os to copy the important files in system and give it to repair shop..',\n",
       " \"ham\\tSorry, I'll call later\",\n",
       " 'ham\\tU say leh... Of course nothing happen lar. Not say v romantic jus a bit only lor. I thk e nite scenery not so nice leh.',\n",
       " 'spam\\t500 New Mobiles from 2004, MUST GO! Txt: NOKIA to No: 89545 & collect yours today!From ONLY £1 www.4-tc.biz 2optout 087187262701.50gbp/mtmsg18',\n",
       " 'ham\\tWould really appreciate if you call me. Just need someone to talk to.',\n",
       " 'spam\\tWill u meet ur dream partner soon? Is ur career off 2 a flyng start? 2 find out free, txt HORO followed by ur star sign, e. g. HORO ARIES',\n",
       " 'ham\\tHey company elama po mudyadhu.',\n",
       " 'ham\\tLife is more strict than teacher... Bcoz Teacher teaches lesson &amp; then conducts exam, But Life first conducts Exam &amp; then teaches Lessons. Happy morning. . .',\n",
       " 'ham\\tDear good morning now only i am up',\n",
       " 'ham\\tGet down in gandhipuram and walk to cross cut road. Right side &lt;#&gt; street road and turn at first right.',\n",
       " 'ham\\tDear we are going to our rubber place',\n",
       " \"ham\\tSorry battery died, yeah I'm here\",\n",
       " 'ham\\tYes:)here tv is always available in work place..',\n",
       " 'spam\\tText & meet someone sexy today. U can find a date or even flirt its up to U. Join 4 just 10p. REPLY with NAME & AGE eg Sam 25. 18 -msg recd@thirtyeight pence',\n",
       " 'ham\\tI have printed it oh. So  &lt;#&gt;  come upstairs',\n",
       " 'ham\\tOr ill be a little closer like at the bus stop on the same street',\n",
       " 'ham\\tWhere are you?when wil you reach here?',\n",
       " \"ham\\tNew Theory: Argument wins d SITUATION, but loses the PERSON. So dont argue with ur friends just.. . . . kick them &amp; say, I'm always correct.!\",\n",
       " 'spam\\tU 447801259231 have a secret admirer who is looking 2 make contact with U-find out who they R*reveal who thinks UR so special-call on 09058094597',\n",
       " 'ham\\tTomarrow final hearing on my laptop case so i cant.',\n",
       " 'ham\\tPLEASSSSSSSEEEEEE TEL ME V AVENT DONE SPORTSx',\n",
       " 'ham\\tOkay. No no, just shining on. That was meant to be signing, but that sounds better.',\n",
       " \"ham\\tAlthough i told u dat i'm into baig face watches now but i really like e watch u gave cos it's fr u. Thanx 4 everything dat u've done today, i'm touched...\",\n",
       " \"ham\\tU don't remember that old commercial?\",\n",
       " \"ham\\tToo late. I said i have the website. I didn't i have or dont have the slippers\",\n",
       " 'ham\\tI asked you to call him now ok',\n",
       " 'ham\\tKallis wont bat in 2nd innings.',\n",
       " 'ham\\tIt didnt work again oh. Ok goodnight then. I.ll fix and have it ready by the time you wake up. You are very dearly missed have a good night sleep.',\n",
       " 'spam\\tCongratulations ur awarded 500 of CD vouchers or 125gift guaranteed & Free entry 2 100 wkly draw txt MUSIC to 87066 TnCs www.Ldew.com1win150ppmx3age16',\n",
       " 'ham\\tRanjith cal drpd Deeraj and deepak 5min hold',\n",
       " 'ham\\tWen ur lovable bcums angry wid u, dnt take it seriously.. Coz being angry is d most childish n true way of showing deep affection, care n luv!.. kettoda manda... Have nice day da.',\n",
       " 'ham\\tWhat you doing?how are you?',\n",
       " 'ham\\tUps which is 3days also, and the shipping company that takes 2wks. The other way is usps which takes a week but when it gets to lag you may have to bribe nipost to get your stuff.',\n",
       " \"ham\\tI'm back, lemme know when you're ready\",\n",
       " \"ham\\tDon't necessarily expect it to be done before you get back though because I'm just now headin out\",\n",
       " 'ham\\tMmm so yummy babe ... Nice jolt to the suzy',\n",
       " 'ham\\tWhere are you lover ? I need you ...',\n",
       " 'spam\\tWe tried to contact you re your reply to our offer of a Video Handset? 750 anytime networks mins? UNLIMITED TEXT? Camcorder? Reply or call 08000930705 NOW',\n",
       " 'ham\\tI‘m parked next to a MINI!!!! When are you coming in today do you think?',\n",
       " 'ham\\tYup',\n",
       " \"ham\\tAnyway i'm going shopping on my own now. Cos my sis not done yet. Dun disturb u liao.\",\n",
       " 'ham\\tMY NO. IN LUTON 0125698789 RING ME IF UR AROUND! H*',\n",
       " 'spam\\tHey I am really horny want to chat or see me naked text hot to 69698 text charged at 150pm to unsubscribe text stop 69698',\n",
       " 'ham\\tWhy you Dint come with us.',\n",
       " 'ham\\tSame. Wana plan a trip sometme then',\n",
       " 'ham\\tNot sure yet, still trying to get a hold of him',\n",
       " 'spam\\tUr ringtone service has changed! 25 Free credits! Go to club4mobiles.com to choose content now! Stop? txt CLUB STOP to 87070. 150p/wk Club4 PO Box1146 MK45 2WT',\n",
       " 'ham\\tThe evo. I just had to download flash. Jealous?',\n",
       " 'spam\\tRingtone Club: Get the UK singles chart on your mobile each week and choose any top quality ringtone! This message is free of charge.',\n",
       " \"ham\\tCome to mu, we're sorting out our narcotics situation\",\n",
       " 'ham\\tNight has ended for another day, morning has come in a special way. May you smile like the sunny rays and leaves your worries at the blue blue bay.',\n",
       " 'spam\\tHMV BONUS SPECIAL 500 pounds of genuine HMV vouchers to be won. Just answer 4 easy questions. Play Now! Send HMV to 86688 More info:www.100percent-real.com',\n",
       " 'ham\\tUsf I guess, might as well take 1 car',\n",
       " 'ham\\tNo objection. My bf not coming.',\n",
       " 'ham\\tThanx...',\n",
       " 'ham\\tTell rob to mack his gf in the theater',\n",
       " \"ham\\tAwesome, I'll see you in a bit\",\n",
       " 'ham\\tJust sent it. So what type of food do you like?',\n",
       " 'ham\\tAll done? All handed in? Celebrations in full swing yet?',\n",
       " 'ham\\tYou got called a tool?',\n",
       " 'ham\\t\"Wen u miss someone, the person is definitely special for u..... But if the person is so special, why to miss them, just Keep-in-touch\" gdeve..',\n",
       " 'ham\\tOk. I asked for money how far',\n",
       " 'ham\\tOkie...',\n",
       " \"ham\\tYeah I think my usual guy's still passed out from last night, if you get ahold of anybody let me know and I'll throw down\",\n",
       " 'ham\\tK, I might come by tonight then if my class lets out early',\n",
       " 'ham\\tOk..',\n",
       " 'ham\\thi baby im cruisin with my girl friend what r u up 2? give me a call in and hour at home if thats alright or fone me on this fone now love jenny xxx',\n",
       " 'ham\\tMy life Means a lot to me, Not because I love my life, But because I love the people in my life, The world calls them friends, I call them my World:-).. Ge:-)..',\n",
       " 'ham\\tDear,shall mail tonite.busy in the street,shall update you tonite.things are looking ok.varunnathu edukkukayee raksha ollu.but a good one in real sense.',\n",
       " 'ham\\tHey you told your name to gautham ah?',\n",
       " 'ham\\tHaf u found him? I feel so stupid da v cam was working.',\n",
       " 'ham\\tOops. 4 got that bit.',\n",
       " 'ham\\tAre you this much buzy',\n",
       " 'ham\\tI accidentally deleted the message. Resend please.',\n",
       " \"spam\\tT-Mobile customer you may now claim your FREE CAMERA PHONE upgrade & a pay & go sim card for your loyalty. Call on 0845 021 3680.Offer ends 28thFeb.T&C's apply\",\n",
       " \"ham\\tUnless it's a situation where YOU GO GURL would be more appropriate\",\n",
       " 'ham\\tHurt me... Tease me... Make me cry... But in the end of my life when i die plz keep one rose on my grave and say STUPID I MISS U.. HAVE A NICE DAY BSLVYL',\n",
       " 'ham\\tI cant pick the phone right now. Pls send a message',\n",
       " \"ham\\tNeed a coffee run tomo?Can't believe it's that time of week already\",\n",
       " 'ham\\tAwesome, I remember the last time we got somebody high for the first time with diesel :V',\n",
       " 'ham\\tShit that is really shocking and scary, cant imagine for a second. Def up for night out. Do u think there is somewhere i could crash for night, save on taxi?',\n",
       " 'ham\\tOh and by the way you do have more food in your fridge! Want to go out for a meal tonight?',\n",
       " 'ham\\tHe is a womdarfull actor',\n",
       " 'spam\\tSMS. ac Blind Date 4U!: Rodds1 is 21/m from Aberdeen, United Kingdom. Check Him out http://img. sms. ac/W/icmb3cktz8r7!-4 no Blind Dates send HIDE',\n",
       " 'ham\\tYup... From what i remb... I think should be can book...',\n",
       " 'ham\\tJos ask if u wana meet up?',\n",
       " \"ham\\tLol yes. Our friendship is hanging on a thread cause u won't buy stuff.\",\n",
       " 'spam\\tTheMob> Check out our newest selection of content, Games, Tones, Gossip, babes and sport, Keep your mobile fit and funky text WAP to 82468',\n",
       " \"ham\\tWhere are the garage keys? They aren't on the bookshelf\",\n",
       " 'ham\\tToday is ACCEPT DAY..U Accept me as? Brother Sister Lover Dear1 Best1 Clos1 Lvblefrnd Jstfrnd Cutefrnd Lifpartnr Belovd Swtheart Bstfrnd No rply means enemy',\n",
       " 'spam\\tThink ur smart ? Win £200 this week in our weekly quiz, text PLAY to 85222 now!T&Cs WinnersClub PO BOX 84, M26 3UZ. 16+. GBP1.50/week',\n",
       " \"ham\\tHe says he'll give me a call when his friend's got the money but that he's definitely buying before the end of the week\",\n",
       " 'ham\\tHi the way I was with u 2day, is the normal way&this is the real me. UR unique&I hope I know u 4 the rest of mylife. Hope u find wot was lost.',\n",
       " 'ham\\tYou made my day. Do have a great day too.',\n",
       " 'ham\\tK.k:)advance happy pongal.',\n",
       " 'ham\\tHmmm... Guess we can go 4 kb n power yoga... Haha, dunno we can tahan power yoga anot... Thk got lo oso, forgot liao...',\n",
       " \"ham\\tNot really dude, have no friends i'm afraid :(\",\n",
       " 'spam\\tDecember only! Had your mobile 11mths+? You are entitled to update to the latest colour camera mobile for Free! Call The Mobile Update Co FREE on 08002986906',\n",
       " 'ham\\tCoffee cake, i guess...',\n",
       " 'ham\\tMerry Christmas to you too babe, i love ya *kisses*',\n",
       " 'ham\\tHey... Why dont we just go watch x men and have lunch... Haha',\n",
       " 'ham\\tcud u tell ppl im gona b a bit l8 cos 2 buses hav gon past cos they were full & im still waitin 4 1. Pete x',\n",
       " \"ham\\tThat would be great. We'll be at the Guild. Could meet on Bristol road or somewhere - will get in touch over weekend. Our plans take flight! Have a good week\",\n",
       " 'ham\\tNo problem. How are you doing?',\n",
       " 'ham\\tNo calls..messages..missed calls',\n",
       " 'ham\\tHi da:)how is the todays class?',\n",
       " \"ham\\tI'd say that's a good sign but, well, you know my track record at reading women\",\n",
       " \"ham\\tCool, text me when you're parked\",\n",
       " \"ham\\tI'm reading the text i just sent you. Its meant to be a joke. So read it in that light\",\n",
       " 'ham\\tK.k:)apo k.good movie.',\n",
       " 'ham\\tMaybe i could get book out tomo then return it immediately ..? Or something.',\n",
       " 'spam\\tCall Germany for only 1 pence per minute! Call from a fixed line via access number 0844 861 85 85. No prepayment. Direct access!',\n",
       " \"ham\\tAny chance you might have had with me evaporated as soon as you violated my privacy by stealing my phone number from your employer's paperwork. Not cool at all. Please do not contact me again or I will report you to your supervisor.\",\n",
       " 'spam\\tValentines Day Special! Win over £1000 in our quiz and take your partner on the trip of a lifetime! Send GO to 83600 now. 150p/msg rcvd. CustCare:08718720201.',\n",
       " 'ham\\tTa-Daaaaa! I am home babe, are you still up ?',\n",
       " 'ham\\tCool. So how come you havent been wined and dined before?',\n",
       " 'ham\\tJust sleeping..and surfing',\n",
       " \"ham\\tSorry, I'll call later\",\n",
       " 'ham\\tU calling me right? Call my hand phone...',\n",
       " \"ham\\tOk that's great thanx a lot.\",\n",
       " 'ham\\tI take it the post has come then! You must have 1000s of texts now! Happy reading. My one from wiv hello caroline at the end is my favourite. Bless him',\n",
       " 'ham\\tWhere u been hiding stranger?',\n",
       " 'ham\\tAm not interested to do like that.',\n",
       " 'ham\\tMy sister cleared two round in birla soft yesterday.',\n",
       " 'ham\\tGudnite....tc...practice going on',\n",
       " 'ham\\tDis is yijue. I jus saw ur mail. In case huiming havent sent u my num. Dis is my num.',\n",
       " 'ham\\tOne small prestige problem now.',\n",
       " 'spam\\tFancy a shag? I do.Interested? sextextuk.com txt XXUK SUZY to 69876. Txts cost 1.50 per msg. TnCs on website. X',\n",
       " 'ham\\tJust checking in on you. Really do miss seeing Jeremiah. Do have a great month',\n",
       " \"ham\\tNah can't help you there, I've never had an iphone\",\n",
       " \"ham\\tIf you're not in my car in an hour and a half I'm going apeshit\",\n",
       " \"ham\\tTODAY is Sorry day.! If ever i was angry with you, if ever i misbehaved or hurt you? plz plz JUST SLAP URSELF Bcoz, Its ur fault, I'm basically GOOD\",\n",
       " 'ham\\tYo you guys ever figure out how much we need for alcohol? Jay and I are trying to figure out how much we can safely spend on weed',\n",
       " 'ham\\t&lt;#&gt; ISH MINUTES WAS 5 MINUTES AGO. WTF.',\n",
       " 'ham\\tThank You for calling.Forgot to say Happy Onam to you Sirji.I am fine here and remembered you when i met an insurance person.Meet You in Qatar Insha Allah.Rakhesh, ex Tata AIG who joined TISSCO,Tayseer.',\n",
       " 'spam\\tCongratulations ur awarded 500 of CD vouchers or 125gift guaranteed & Free entry 2 100 wkly draw txt MUSIC to 87066 TnCs www.Ldew.com1win150ppmx3age16',\n",
       " 'spam\\tUr cash-balance is currently 500 pounds - to maximize ur cash-in now send CASH to 86688 only 150p/msg. CC: 08708800282 HG/Suite342/2Lands Row/W1J6HL',\n",
       " \"ham\\tI'm an actor. When i work, i work in the evening and sleep late. Since i'm unemployed at the moment, i ALWAYS sleep late. When you're unemployed, every day is saturday.\",\n",
       " 'ham\\tHello! Just got here, st andrews-boy its a long way! Its cold. I will keep you posted',\n",
       " 'ham\\tHa ha cool cool chikku chikku:-):-DB-)',\n",
       " 'ham\\tOh ok no prob..',\n",
       " \"ham\\tCheck audrey's status right now\",\n",
       " 'ham\\tBusy here. Trying to finish for new year. I am looking forward to finally meeting you...',\n",
       " 'ham\\tGood afternoon sunshine! How dawns that day ? Are we refreshed and happy to be alive? Do we breathe in the air and smile ? I think of you, my love ... As always',\n",
       " 'ham\\tWell i know Z will take care of me. So no worries.',\n",
       " 'spam\\tUpdate_Now - Xmas Offer! Latest Motorola, SonyEricsson & Nokia & FREE Bluetooth! Double Mins & 1000 Txt on Orange. Call MobileUpd8 on 08000839402 or call2optout/F4Q=',\n",
       " 'spam\\tHere is your discount code RP176781. To stop further messages reply stop. www.regalportfolio.co.uk. Customer Services 08717205546',\n",
       " 'ham\\tWat uniform? In where get?',\n",
       " \"ham\\tCool, text me when you're ready\",\n",
       " 'ham\\tHello my boytoy ... Geeee I miss you already and I just woke up. I wish you were here in bed with me, cuddling me. I love you ...',\n",
       " 'ham\\tI will spoil you in bed as well :)',\n",
       " \"ham\\tI'm going for bath will msg you next  &lt;#&gt;  min..\",\n",
       " 'ham\\tI cant keep talking to people if am not sure i can pay them if they agree to price. So pls tell me what you want to really buy and how much you are willing to pay',\n",
       " 'spam\\tThanks for your Ringtone Order, Reference T91. You will be charged GBP 4 per week. You can unsubscribe at anytime by calling customer services on 09057039994',\n",
       " 'ham\\tCan you say what happen',\n",
       " \"ham\\tYou could have seen me..i did't recognise you Face.:)\",\n",
       " \"ham\\tWell there's not a lot of things happening in Lindsay on New years *sighs* Some bars in Ptbo and the blue heron has something going\",\n",
       " 'ham\\tKeep my payasam there if rinu brings',\n",
       " 'ham\\tI taught that Ranjith sir called me. So only i sms like that. Becaus hes verifying about project. Prabu told today so only pa dont mistake me..',\n",
       " \"ham\\tI guess that's why you re worried. You must know that there's a way the body repairs itself. And i'm quite sure you shouldn't worry. We'll take it slow. First the tests, they will guide when your ovulation is then just relax. Nothing you've said is a reason to worry but i.ll keep on followin you up.\",\n",
       " 'ham\\tYeah sure, give me a couple minutes to track down my wallet',\n",
       " 'ham\\tHey leave it. not a big deal:-) take care.',\n",
       " 'ham\\tHey i will be late ah... Meet you at 945+',\n",
       " 'spam\\tDouble mins and txts 4 6months FREE Bluetooth on Orange. Available on Sony, Nokia Motorola phones. Call MobileUpd8 on 08000839402 or call2optout/N9DX',\n",
       " 'ham\\tIt took Mr owl 3 licks',\n",
       " 'ham\\tCustomer place i will call you.',\n",
       " 'ham\\tMm that time you dont like fun',\n",
       " 'spam\\t4mths half price Orange line rental & latest camera phones 4 FREE. Had your phone 11mths ? Call MobilesDirect free on 08000938767 to update now! or2stoptxt',\n",
       " 'ham\\tYup having my lunch buffet now.. U eat already?',\n",
       " 'ham\\tHuh so late... Fr dinner?',\n",
       " 'ham\\tHey so this sat are we going for the intro pilates only? Or the kickboxing too?',\n",
       " 'ham\\tMorning only i can ok.',\n",
       " 'ham\\tYes i think so. I am in office but my lap is in room i think thats on for the last few days. I didnt shut that down',\n",
       " 'ham\\tPick you up bout 7.30ish? What time are  and that going?',\n",
       " 'ham\\tFrom here after The performance award is calculated every two month.not for current one month period..',\n",
       " 'ham\\tWas actually sleeping and still might when u call back. So a text is gr8. You rock sis. Will send u a text wen i wake.',\n",
       " \"ham\\tYou are always putting your business out there. You put pictures of your ass on facebook. You are one of the most open people i've ever met. Why would i think a picture of your room would hurt you, make you feel violated.\",\n",
       " 'ham\\tGood evening Sir, Al Salam Wahleykkum.sharing a happy news.By the grace of God, i got an offer from Tayseer,TISSCO and i joined.Hope you are fine.Inshah Allah,meet you sometime.Rakhesh,visitor from India.',\n",
       " 'ham\\tHmmm...k...but i want to change the field quickly da:-)i wanna get system administrator or network administrator..',\n",
       " 'spam\\tFREE RINGTONE text FIRST to 87131 for a poly or text GET to 87131 for a true tone! Help? 0845 2814032 16 after 1st free, tones are 3x£150pw to e£nd txt stop',\n",
       " 'ham\\tDear how is chechi. Did you talk to her',\n",
       " 'ham\\tThe hair cream has not been shipped.',\n",
       " \"ham\\tNone of that's happening til you get here though\",\n",
       " 'ham\\tYep, the great loxahatchee xmas tree burning of  &lt;#&gt;  starts in an hour',\n",
       " 'ham\\tHaha get used to driving to usf man, I know a lot of stoners',\n",
       " \"ham\\tAll was well until slightly disastrous class this pm with my fav darlings! Hope day off ok. Coffee wld be good as can't stay late tomorrow. Same time + place as always?\",\n",
       " 'ham\\tHello! Good week? Fancy a drink or something later?',\n",
       " 'ham\\tHeadin towards busetop',\n",
       " 'ham\\tMessage:some text missing* Sender:Name Missing* *Number Missing *Sent:Date missing *Missing U a lot thats y everything is missing sent via fullonsms.com',\n",
       " 'ham\\tCome by our room at some point so we can iron out the plan for this weekend',\n",
       " 'ham\\tCos i want it to be your thing',\n",
       " \"ham\\tOkies... I'll go yan jiu too... We can skip ard oso, go cine den go mrt one, blah blah blah...\",\n",
       " 'ham\\tBring home some Wendy =D',\n",
       " 'spam\\t100 dating service cal;l 09064012103 box334sk38ch',\n",
       " 'ham\\tWhatsup there. Dont u want to sleep',\n",
       " 'ham\\tAlright i have a new goal now',\n",
       " 'spam\\tFREE entry into our £250 weekly competition just text the word WIN to 80086 NOW. 18 T&C www.txttowin.co.uk',\n",
       " \"ham\\tAlright, I'll head out in a few minutes, text me where to meet you\",\n",
       " 'spam\\tSend a logo 2 ur lover - 2 names joined by a heart. Txt LOVE NAME1 NAME2 MOBNO eg LOVE ADAM EVE 07123456789 to 87077 Yahoo! POBox36504W45WQ TxtNO 4 no ads 150p',\n",
       " \"ham\\tYes:)from last week itself i'm taking live call.\",\n",
       " 'spam\\tSomeone has contacted our dating service and entered your phone because they fancy you! To find out who it is call from a landline 09111032124 . PoBox12n146tf150p',\n",
       " 'ham\\tSiva is in hostel aha:-.',\n",
       " 'spam\\tURGENT! Your Mobile number has been awarded with a £2000 prize GUARANTEED. Call 09058094455 from land line. Claim 3030. Valid 12hrs only',\n",
       " 'ham\\tSend this to ur friends and receive something about ur voice..... How is my speaking expression? 1.childish 2.naughty 3.Sentiment 4.rowdy 5.ful of attitude 6.romantic 7.shy 8.Attractive 9.funny  &lt;#&gt; .irritating  &lt;#&gt; .lovable. reply me..',\n",
       " \"ham\\tOk. She'll be ok. I guess\",\n",
       " 'ham\\taathi..where are you dear..',\n",
       " 'ham\\tAny pain on urination any thing else?',\n",
       " 'ham\\t7 at esplanade.. Do ü mind giving me a lift cos i got no car today..',\n",
       " 'ham\\tI wnt to buy a BMW car urgently..its vry urgent.but hv a shortage of  &lt;#&gt; Lacs.there is no source to arng dis amt. &lt;#&gt; lacs..thats my prob',\n",
       " 'ham\\tAt home watching tv lor.',\n",
       " 'ham\\tDoes she usually take fifteen fucking minutes to respond to a yes or no question',\n",
       " 'spam\\tCongrats! Nokia 3650 video camera phone is your Call 09066382422 Calls cost 150ppm Ave call 3mins vary from mobiles 16+ Close 300603 post BCM4284 Ldn WC1N3XX',\n",
       " 'ham\\tBooked ticket for pongal?',\n",
       " \"ham\\tYou available now? I'm like right around hillsborough &amp;  &lt;#&gt; th\",\n",
       " 'ham\\tThe message sent is askin for  &lt;#&gt; dollars. Shoul i pay  &lt;#&gt;  or  &lt;#&gt; ?',\n",
       " \"ham\\tAsk g or iouri, I've told the story like ten times already\",\n",
       " 'ham\\tHow long does applebees fucking take',\n",
       " 'ham\\tHi hope u get this txt~journey hasnt been gd,now about 50 mins late I think.',\n",
       " 'ham\\tBut i have to. I like to have love and arrange.',\n",
       " 'ham\\tYes..he is really great..bhaji told kallis best cricketer after sachin in world:).very tough to get out.',\n",
       " 'ham\\tYou were supposed to wake ME up &gt;:(',\n",
       " 'ham\\tOic... I saw him too but i tot he din c me... I found a group liao...',\n",
       " \"ham\\tSorry, I'll call later\",\n",
       " 'ham\\t\"HEY HEY WERETHE MONKEESPEOPLE SAY WE MONKEYAROUND! HOWDY GORGEOUS, HOWU DOIN? FOUNDURSELF A JOBYET SAUSAGE?LOVE JEN XXX\"',\n",
       " \"ham\\tSorry, my battery died, I can come by but I'm only getting a gram for now, where's your place?\",\n",
       " 'ham\\tWell done, blimey, exercise, yeah, i kinda remember wot that is, hmm.',\n",
       " 'ham\\tI wont get concentration dear you know you are my mind and everything :-)',\n",
       " 'ham\\tLOL ... Have you made plans for new years?',\n",
       " 'ham\\t10 min later k...',\n",
       " 'ham\\thanks lotsly!',\n",
       " 'ham\\tThanks for this hope you had a good day today',\n",
       " 'ham\\tK:)k:)what are detail you want to transfer?acc no enough?',\n",
       " 'ham\\tOk i will tell her to stay out. Yeah its been tough but we are optimistic things will improve this month.',\n",
       " \"spam\\tLoan for any purpose £500 - £75,000. Homeowners + Tenants welcome. Have you been previously refused? We can still help. Call Free 0800 1956669 or text back 'help'\",\n",
       " 'ham\\tSi si. I think ill go make those oreo truffles.',\n",
       " 'ham\\tLOOK AT AMY URE A BEAUTIFUL, INTELLIGENT WOMAN AND I LIKE U A LOT. I KNOW U DON\\x92T LIKE ME LIKE THAT SO DON\\x92T WORRY.',\n",
       " \"ham\\tI hope you that's the result of being consistently intelligent and kind. Start asking him about practicum links and keep your ears open and all the best. ttyl\",\n",
       " 'ham\\t1.20 that call cost. Which i guess isnt bad. Miss ya, need ya, want ya, love ya',\n",
       " 'ham\\tGoing thru a very different feeling.wavering decisions and coping up with the same is the same individual.time will heal everything i believe.',\n",
       " 'ham\\tWhere did u go? My phone is gonna die you have to stay in here',\n",
       " 'ham\\tGreat. Never been better. Each day gives even more reasons to thank God',\n",
       " \"spam\\tUpgrdCentre Orange customer, you may now claim your FREE CAMERA PHONE upgrade for your loyalty. Call now on 0207 153 9153. Offer ends 26th July. T&C's apply. Opt-out available\",\n",
       " \"ham\\tSorry, I'll call later ok bye\",\n",
       " 'ham\\tOk i am on the way to railway',\n",
       " 'ham\\tgreat princess! I love giving and receiving oral. Doggy style is my fave position. How about you? I enjoy making love  &lt;#&gt;  times per night :)',\n",
       " \"ham\\tThey don't put that stuff on the roads to keep it from getting slippery over there?\",\n",
       " 'ham\\tWhen are you going to ride your bike?',\n",
       " \"ham\\tYup, no need. I'll jus wait 4 e rain 2 stop.\",\n",
       " 'ham\\tThere are many company. Tell me the language.',\n",
       " 'spam\\tokmail: Dear Dave this is your final notice to collect your 4* Tenerife Holiday or #5000 CASH award! Call 09061743806 from landline. TCs SAE Box326 CW25WX 150ppm',\n",
       " 'ham\\tHow long has it been since you screamed, princess?',\n",
       " 'ham\\tNothing. I meant that once the money enters your account here, the bank will remove its flat rate. Someone transfered  &lt;#&gt;  to my account and  &lt;#&gt; dollars got removed. So the banks differ and charges also differ.be sure you trust the 9ja person you are sending account details to cos...',\n",
       " \"spam\\tWant 2 get laid tonight? Want real Dogging locations sent direct 2 ur Mob? Join the UK's largest Dogging Network by txting MOAN to 69888Nyt. ec2a. 31p.msg@150p\",\n",
       " \"ham\\tNice line said by a broken heart- Plz don't cum 1 more times infront of me... Other wise once again I ll trust U... Good 9t:)\",\n",
       " \"ham\\tOk I'm gonna head up to usf in like fifteen minutes\",\n",
       " 'ham\\tLove you aathi..love u lot..',\n",
       " 'ham\\tTension ah?what machi?any problem?',\n",
       " \"ham\\tK, can I pick up another 8th when you're done?\",\n",
       " \"ham\\tWhen're you guys getting back? G said you were thinking about not staying for mcr\",\n",
       " 'ham\\tAlmost there, see u in a sec',\n",
       " 'ham\\tYo carlos, a few friends are already asking me about you, you working at all this weekend?',\n",
       " 'ham\\tWatching tv lor...',\n",
       " 'ham\\tThank you baby! I cant wait to taste the real thing...',\n",
       " 'ham\\tYou should change your fb to jaykwon thuglyfe falconerf',\n",
       " 'ham\\tIf we win its really no 1 side for long time.',\n",
       " 'spam\\tFREE MESSAGE Activate your 500 FREE Text Messages by replying to this message with the word FREE For terms & conditions, visit www.07781482378.com',\n",
       " 'ham\\tDear reached railway. What happen to you',\n",
       " 'ham\\tDepends on quality. If you want the type i sent boye, faded glory, then about 6. If you want ralphs maybe 2',\n",
       " \"ham\\tI think i've fixed it can you send a test message?\",\n",
       " \"ham\\tSorry man my account's dry or I would, if you want we could trade back half or I could buy some shit with my credit card\",\n",
       " 'spam\\tCongrats! 1 year special cinema pass for 2 is yours. call 09061209465 now! C Suprman V, Matrix3, StarWars3, etc all 4 FREE! bx420-ip4-5we. 150pm. Dont miss out!',\n",
       " \"ham\\tSorry,in meeting I'll call later\",\n",
       " 'ham\\tWhat class of  &lt;#&gt;  reunion?',\n",
       " 'ham\\tAre you free now?can i call now?',\n",
       " 'ham\\tGot meh... When?',\n",
       " 'ham\\tNope... Think i will go for it on monday... Sorry i replied so late',\n",
       " 'ham\\tSome of them told accenture is not confirm. Is it true.',\n",
       " 'ham\\tKate jackson rec center before 7ish, right?',\n",
       " 'ham\\tDear i have reache room',\n",
       " 'ham\\tFighting with the world is easy, u either win or lose bt fightng with some1 who is close to u is dificult if u lose - u lose if u win - u still lose.',\n",
       " 'ham\\tWhen can ü come out?',\n",
       " 'ham\\tCheck with nuerologist.',\n",
       " 'ham\\tLolnice. I went from a fish to ..water.?',\n",
       " \"spam\\t+123 Congratulations - in this week's competition draw u have won the £1450 prize to claim just call 09050002311 b4280703. T&Cs/stop SMS 08718727868. Over 18 only 150ppm\",\n",
       " \"ham\\tNo it's waiting in e car dat's bored wat. Cos wait outside got nothing 2 do. At home can do my stuff or watch tv wat.\",\n",
       " 'ham\\tMaybe westshore or hyde park village, the place near my house?',\n",
       " \"ham\\tYou should know now. So how's anthony. Are you bringing money. I've school fees to pay and rent and stuff like that. Thats why i need your help. A friend in need....|\",\n",
       " \"ham\\tWhat's the significance?\",\n",
       " 'ham\\tYour opinion about me? 1. Over 2. Jada 3. Kusruthi 4. Lovable 5. Silent 6. Spl character 7. Not matured 8. Stylish 9. Simple Pls reply..',\n",
       " \"ham\\t8 at the latest, g's still there if you can scrounge up some ammo and want to give the new ak a try\",\n",
       " \"ham\\tPrabha..i'm soryda..realy..frm heart i'm sory\",\n",
       " 'ham\\tLol ok your forgiven :)',\n",
       " 'ham\\tNo..jst change tat only..',\n",
       " 'spam\\tYou are guaranteed the latest Nokia Phone, a 40GB iPod MP3 player or a £500 prize! Txt word: COLLECT to No: 83355! IBHltd LdnW15H 150p/Mtmsgrcvd18+',\n",
       " 'ham\\tS:)no competition for him.',\n",
       " 'spam\\tBoltblue tones for 150p Reply POLY# or MONO# eg POLY3 1. Cha Cha Slide 2. Yeah 3. Slow Jamz 6. Toxic 8. Come With Me or STOP 4 more tones txt MORE',\n",
       " 'spam\\tYour credits have been topped up for http://www.bubbletext.com Your renewal Pin is tgxxrz',\n",
       " 'ham\\tThat way transport is less problematic than on sat night. By the way, if u want to ask  n  to join my bday, feel free. But need to know definite nos as booking on fri.',\n",
       " \"ham\\tUsually the person is unconscious that's in children but in adults they may just behave abnormally. I.ll call you now\",\n",
       " \"ham\\tBut that's on ebay it might be less elsewhere.\",\n",
       " 'ham\\tShall i come to get pickle',\n",
       " 'ham\\tWere gonna go get some tacos',\n",
       " \"ham\\tThat's very rude, you on campus?\",\n",
       " 'spam\\tURGENT!: Your Mobile No. was awarded a £2,000 Bonus Caller Prize on 02/09/03! This is our 2nd attempt to contact YOU! Call 0871-872-9755 BOX95QU',\n",
       " \"ham\\tHi i won't b ard 4 christmas. But do enjoy n merry x'mas.\",\n",
       " \"spam\\tToday's Offer! Claim ur £150 worth of discount vouchers! Text YES to 85023 now! SavaMob, member offers mobile! T Cs 08717898035. £3.00 Sub. 16 . Unsub reply X\",\n",
       " 'ham\\tYes! How is a pretty lady like you single?',\n",
       " 'spam\\tYou will recieve your tone within the next 24hrs. For Terms and conditions please see Channel U Teletext Pg 750',\n",
       " \"ham\\tJay says that you're a double-faggot\",\n",
       " 'spam\\tPRIVATE! Your 2003 Account Statement for 07815296484 shows 800 un-redeemed S.I.M. points. Call 08718738001 Identifier Code 41782 Expires 18/11/04',\n",
       " 'ham\\tWhat Today-sunday..sunday is holiday..so no work..',\n",
       " 'ham\\tGudnite....tc...practice going on',\n",
       " \"ham\\tI'll be late...\",\n",
       " \"ham\\tI've not called you in a while. This is hoping it was l8r malaria and that you know that we miss you guys. I miss Bani big, so pls give her my love especially. Have a great day.\",\n",
       " 'ham\\tGood afternoon, my love! How goes that day ? I hope maybe you got some leads on a job. I think of you, boytoy and send you a passionate kiss from across the sea',\n",
       " 'ham\\tProbably gonna be here for a while, see you later tonight &lt;)',\n",
       " \"ham\\tOr maybe my fat fingers just press all these buttons and it doesn't know what to do.\",\n",
       " 'ham\\tUmmmmmaah Many many happy returns of d day my dear sweet heart.. HAPPY BIRTHDAY dear',\n",
       " 'ham\\tI am in tirupur da, once you started from office call me.',\n",
       " 'spam\\tfrom www.Applausestore.com MonthlySubscription@50p/msg max6/month T&CsC web age16 2stop txt stop',\n",
       " \"ham\\tA famous quote : when you develop the ability to listen to 'anything' unconditionally without losing your temper or self confidence, it means you are ......... 'MARRIED'\",\n",
       " 'ham\\tBut am going to college pa. What to do. are else ill come there it self. Pa.',\n",
       " 'ham\\t4 oclock at mine. Just to bash out a flat plan.',\n",
       " \"ham\\tThis girl does not stay in bed. This girl doesn't need recovery time. Id rather pass out while having fun then be cooped up in bed\",\n",
       " 'ham\\tThen any special there?',\n",
       " \"ham\\tI know but you need to get hotel now. I just got my invitation but i had to apologise. Cali is to sweet for me to come to some english bloke's weddin\",\n",
       " 'ham\\tSorry that took so long, omw now',\n",
       " 'ham\\tWait  &lt;#&gt;  min..',\n",
       " \"ham\\tOk give me 5 minutes I think I see her. BTW you're my alibi. You were cutting my hair the whole time.\",\n",
       " 'ham\\tImagine you finally get to sink into that bath after I have put you through your paces, maybe even having you eat me for a while before I left ... But also imagine the feel of that cage on your cock surrounded by the bath water, reminding you always who owns you ... Enjoy, my cuck',\n",
       " \"ham\\tHurry up, I've been weed-deficient for like three days\",\n",
       " \"ham\\tSure, if I get an acknowledgement from you that it's astoundingly tactless and generally faggy to demand a blood oath fo\",\n",
       " \"ham\\tOk. Every night take a warm bath drink a cup of milk and you'll see a work of magic. You still need to loose weight. Just so that you know\",\n",
       " 'ham\\tI‘ll have a look at the frying pan in case it‘s cheap or a book perhaps. No that‘s silly a frying pan isn‘t likely to be a book',\n",
       " 'ham\\tO. Well uv causes mutations. Sunscreen is like essential thesedays',\n",
       " 'ham\\tHaving lunch:)you are not in online?why?',\n",
       " 'ham\\tI know that my friend already told that.',\n",
       " 'ham\\tHi Princess! Thank you for the pics. You are very pretty. How are you?',\n",
       " 'ham\\tAiyo... U always c our ex one... I dunno abt mei, she haven reply... First time u reply so fast... Y so lucky not workin huh, got bao by ur sugardad ah...gee..',\n",
       " \"ham\\tHi msg me:)i'm in office..\",\n",
       " \"ham\\tThanx 4 e brownie it's v nice...\",\n",
       " 'ham\\tGeeeee ... I love you so much I can barely stand it',\n",
       " 'spam\\tGENT! We are trying to contact you. Last weekends draw shows that you won a £1000 prize GUARANTEED. Call 09064012160. Claim Code K52. Valid 12hrs only. 150ppm',\n",
       " \"ham\\tFuck babe ... I miss you already, you know ? Can't you let me send you some money towards your net ? I need you ... I want you ... I crave you ...\",\n",
       " 'ham\\tIll call u 2mrw at ninish, with my address that icky American freek wont stop callin me 2 bad Jen k eh?',\n",
       " 'ham\\tOooh bed ridden ey? What are YOU thinking of?',\n",
       " 'ham\\tSo anyways, you can just go to your gym or whatever, my love *smiles* I hope your ok and having a good day babe ... I miss you so much already',\n",
       " 'ham\\tLove it! Daddy will make you scream with pleasure! I am going to slap your ass with my dick!',\n",
       " 'ham\\tWOT U WANNA DO THEN MISSY?',\n",
       " 'ham\\tYar lor wait 4 my mum 2 finish sch then have lunch lor... I whole morning stay at home clean my room now my room quite clean... Hee...',\n",
       " 'ham\\tDo you know where my lab goggles went',\n",
       " 'ham\\tCan you open the door?',\n",
       " 'ham\\tWaiting for your call.',\n",
       " 'ham\\tNope i waiting in sch 4 daddy...',\n",
       " 'spam\\tYou have won ?1,000 cash or a ?2,000 prize! To claim, call09050000327',\n",
       " \"ham\\tI'm tired of arguing with you about this week after week. Do what you want and from now on, i'll do the same.\",\n",
       " 'ham\\tÜ wait 4 me in sch i finish ard 5..',\n",
       " 'spam\\tour mobile number has won £5000, to claim calls us back or ring the claims hot line on 09050005321.',\n",
       " 'ham\\tArngd marriage is while u r walkin unfortuntly a snake bites u. bt love marriage is dancing in frnt of d snake &amp; sayin Bite me, bite me.',\n",
       " 'ham\\tHuh so early.. Then ü having dinner outside izzit?',\n",
       " 'ham\\tOk anyway no need to change with what you said',\n",
       " 'spam\\tWe tried to contact you re your reply to our offer of 750 mins 150 textand a new video phone call 08002988890 now or reply for free delivery tomorrow',\n",
       " 'ham\\tmy ex-wife was not able to have kids. Do you want kids one day?',\n",
       " \"ham\\tSo how's scotland. Hope you are not over showing your JJC tendencies. Take care. Live the dream\",\n",
       " 'ham\\tTell them u have a headache and just want to use 1 hour of sick time.',\n",
       " \"ham\\tI dun thk i'll quit yet... Hmmm, can go jazz ? Yogasana oso can... We can go meet em after our lessons den...\",\n",
       " 'ham\\t\"Pete can you please ring meive hardly gotany credit\"',\n",
       " 'ham\\tYa srsly better than yi tho',\n",
       " \"ham\\tI'm in a meeting, call me later at\",\n",
       " \"spam\\tFor ur chance to win a £250 wkly shopping spree TXT: SHOP to 80878. T's&C's www.txt-2-shop.com custcare 08715705022, 1x150p/wk\",\n",
       " 'spam\\tYou have been specially selected to receive a 2000 pound award! Call 08712402050 BEFORE the lines close. Cost 10ppm. 16+. T&Cs apply. AG Promo',\n",
       " 'spam\\tPRIVATE! Your 2003 Account Statement for 07753741225 shows 800 un-redeemed S. I. M. points. Call 08715203677 Identifier Code: 42478 Expires 24/10/04',\n",
       " 'ham\\tYou still at grand prix?',\n",
       " 'ham\\tI met you as a stranger and choose you as my friend. As long as the world stands, our friendship never ends. Lets be Friends forever!!! Gud nitz...',\n",
       " 'ham\\tI am great! How are you?',\n",
       " 'ham\\tGud mrng dear have a nice day',\n",
       " 'spam\\tYou have an important customer service announcement. Call FREEPHONE 0800 542 0825 now!',\n",
       " 'ham\\tWill do. Was exhausted on train this morning. Too much wine and pie. You sleep well too',\n",
       " \"ham\\tI'm going out to buy mum's present ar.\",\n",
       " 'ham\\tMind blastin.. No more Tsunamis will occur from now on.. Rajnikant stopped swimming in Indian Ocean..:-D',\n",
       " \"ham\\tIf u sending her home first it's ok lor. I'm not ready yet.\",\n",
       " 'ham\\tSpeaking of does he have any cash yet?',\n",
       " 'ham\\tBe happy there. I will come after noon',\n",
       " 'ham\\tMeet after lunch la...',\n",
       " 'ham\\tTaKe CaRE n gET WeLL sOOn',\n",
       " 'spam\\tXCLUSIVE@CLUBSAISAI 2MOROW 28/5 SOIREE SPECIALE ZOUK WITH NICHOLS FROM PARIS.FREE ROSES 2 ALL LADIES !!! info: 07946746291/07880867867',\n",
       " 'ham\\twhat I meant to say is cant wait to see u again getting bored of this bridgwater banter',\n",
       " \"ham\\tNeva mind it's ok..\",\n",
       " \"ham\\tIt's fine, imma get a drink or somethin. Want me to come find you?\",\n",
       " 'spam\\t22 days to kick off! For Euro2004 U will be kept up to date with the latest news and results daily. To be removed send GET TXT STOP to 83222',\n",
       " 'ham\\tIts a valentine game. . . Send dis msg to all ur friends. .. If 5 answers r d same then someone really loves u. Ques- which colour suits me the best?rply me',\n",
       " 'ham\\tI have many dependents',\n",
       " 'ham\\tTHANX4 TODAY CER IT WAS NICE 2 CATCH UP BUT WE AVE 2 FIND MORE TIME MORE OFTEN OH WELL TAKE CARE C U SOON.C',\n",
       " 'ham\\tI called and said all to him:)then he have to choose this future.',\n",
       " 'ham\\t\"Happy valentines day\" I know its early but i have hundreds of handsomes and beauties to wish. So i thought to finish off aunties and uncles 1st...',\n",
       " 'ham\\tHe like not v shock leh. Cos telling shuhui is like telling leona also. Like dat almost all know liao. He got ask me abt ur reaction lor.',\n",
       " 'ham\\tFor my family happiness..',\n",
       " 'ham\\tI come n pick ü up... Come out immediately aft ur lesson...',\n",
       " 'ham\\tLet there be snow. Let there be snow. This kind of weather brings ppl together so friendships can grow.',\n",
       " 'ham\\tDear we got  &lt;#&gt;  dollars hi hi',\n",
       " 'ham\\tGood words.... But words may leave u in dismay many times.',\n",
       " \"ham\\tMAKE SURE ALEX KNOWS HIS BIRTHDAY IS OVER IN FIFTEEN MINUTES AS FAR AS YOU'RE CONCERNED\",\n",
       " 'ham\\tsorry, no, have got few things to do. may be in pub later.',\n",
       " \"ham\\tNah it's straight, if you can just bring bud or drinks or something that's actually a little more useful than straight cash\",\n",
       " \"ham\\tHaha good to hear, I'm officially paid and on the market for an 8th\",\n",
       " 'ham\\tHow many licks does it take to get to the center of a tootsie pop?',\n",
       " 'ham\\tYup i thk they r e teacher said that will make my face look longer. Darren ask me not 2 cut too short.',\n",
       " 'spam\\tNew TEXTBUDDY Chat 2 horny guys in ur area 4 just 25p Free 2 receive Search postcode or at gaytextbuddy.com. TXT ONE name to 89693',\n",
       " 'spam\\tTodays Vodafone numbers ending with 4882 are selected to a receive a £350 award. If your number matches call 09064019014 to receive your £350 award.',\n",
       " 'ham\\tPlease dont say like that. Hi hi hi',\n",
       " 'ham\\tThank u!',\n",
       " 'ham\\tOh that was a forwarded message. I thought you send that to me',\n",
       " 'ham\\tGot it. Seventeen pounds for seven hundred ml – hope ok.',\n",
       " 'spam\\tDear Voucher Holder, 2 claim this weeks offer, at your PC go to http://www.e-tlp.co.uk/expressoffer Ts&Cs apply.2 stop texts txt STOP to 80062.',\n",
       " 'ham\\tMe n him so funny...',\n",
       " 'ham\\tSweetheart, hope you are not having that kind of day! Have one with loads of reasons to smile. Biola',\n",
       " 'ham\\tWhen ü login dat time... Dad fetching ü home now?',\n",
       " 'ham\\tWhat will we do in the shower, baby?',\n",
       " 'ham\\tI had askd u a question some hours before. Its answer',\n",
       " \"ham\\tWell imma definitely need to restock before thanksgiving, I'll let you know when I'm out\",\n",
       " \"ham\\t said kiss, kiss, i can't do the sound effects! He is a gorgeous man isn't he! Kind of person who needs a smile to brighten his day!\",\n",
       " 'ham\\tProbably gonna swing by in a wee bit',\n",
       " 'ham\\tYa very nice. . .be ready on thursday',\n",
       " 'ham\\tAllo! We have braved the buses and taken on the trains and triumphed. I mean we‘re in b‘ham. Have a jolly good rest of week',\n",
       " 'ham\\tWatching cartoon, listening music &amp; at eve had to go temple &amp; church.. What about u?',\n",
       " 'ham\\tDo you mind if I ask what happened? You dont have to say if it is uncomfortable.',\n",
       " 'spam\\tPRIVATE! Your 2003 Account Statement for shows 800 un-redeemed S. I. M. points. Call 08715203694 Identifier Code: 40533 Expires 31/10/04',\n",
       " 'ham\\tNo prob. I will send to your email.',\n",
       " 'spam\\tYou have won ?1,000 cash or a ?2,000 prize! To claim, call09050000327. T&C: RSTM, SW7 3SS. 150ppm',\n",
       " 'ham\\tThats cool! Sometimes slow and gentle. Sonetimes rough and hard :)',\n",
       " \"ham\\tI'm gonna say no. Sorry. I would but as normal am starting to panic about time. Sorry again! Are you seeing on Tuesday?\",\n",
       " 'ham\\tWait, do you know if wesleys in town? I bet she does hella drugs!',\n",
       " 'ham\\tFine i miss you very much.',\n",
       " 'ham\\tDid u got that persons story',\n",
       " \"ham\\tTell them the drug dealer's getting impatient\",\n",
       " 'ham\\tSun cant come to earth but send luv as rays. cloud cant come to river but send luv as rain. I cant come to meet U, but can send my care as msg to U. Gud evng',\n",
       " 'ham\\tYou will be in the place of that man',\n",
       " 'ham\\tIt doesnt make sense to take it there unless its free. If you need to know more, wikipedia.com',\n",
       " 'spam\\t88800 and 89034 are premium phone services call 08718711108',\n",
       " \"ham\\tUnder the sea, there lays a rock. In the rock, there is an envelope. In the envelope, there is a paper. On the paper, there are 3 words... '\",\n",
       " \"ham\\tThen mum's repent how?\",\n",
       " 'ham\\tSorry me going home first... Daddy come fetch ü later...',\n",
       " 'ham\\tLeave it de:-). Start Prepare for next:-)..',\n",
       " 'ham\\tYes baby! We can study all the positions of the kama sutra ;)',\n",
       " 'ham\\tEn chikku nange bakra msg kalstiya..then had tea/coffee?',\n",
       " \"ham\\tCarlos'll be here in a minute if you still need to buy\",\n",
       " 'ham\\tThis pay is  &lt;DECIMAL&gt;  lakhs:)',\n",
       " 'ham\\tHave a good evening! Ttyl',\n",
       " 'ham\\tDid u receive my msg?',\n",
       " 'ham\\tHo ho - big belly laugh! See ya tomo',\n",
       " 'spam\\tSMS. ac sun0819 posts HELLO:\"You seem cool, wanted to say hi. HI!!!\" Stop? Send STOP to 62468',\n",
       " 'spam\\tGet ur 1st RINGTONE FREE NOW! Reply to this msg with TONE. Gr8 TOP 20 tones to your phone every week just £1.50 per wk 2 opt out send STOP 08452810071 16',\n",
       " \"ham\\tDitto. And you won't have to worry about me saying ANYTHING to you anymore. Like i said last night, you do whatever you want and i'll do the same. Peace.\",\n",
       " \"ham\\tI've got  &lt;#&gt; , any way I could pick up?\",\n",
       " 'ham\\tI dont knw pa, i just drink milk..',\n",
       " 'ham\\tMaybe?! Say hi to  and find out if  got his card. Great escape or wetherspoons?',\n",
       " \"ham\\tPiggy, r u awake? I bet u're still sleeping. I'm going 4 lunch now...\",\n",
       " \"ham\\tCause I'm not freaky lol\",\n",
       " \"ham\\tMissed your call cause I was yelling at scrappy. Miss u. Can't wait for u to come home. I'm so lonely today.\",\n",
       " \"ham\\tWhat is this 'hex' place you talk of? Explain!\",\n",
       " \"ham\\tÜ log off 4 wat. It's sdryb8i\",\n",
       " 'ham\\tIs xy going 4 e lunch?',\n",
       " \"spam\\tHi I'm sue. I am 20 years old and work as a lapdancer. I love sex. Text me live - I'm i my bedroom now. text SUE to 89555. By TextOperator G2 1DA 150ppmsg 18+\",\n",
       " 'ham\\tI wanted to ask ü to wait 4 me to finish lect. Cos my lect finishes in an hour anyway.',\n",
       " 'ham\\tHave you finished work yet? :)',\n",
       " 'ham\\tEvery King Was Once A Crying Baby And Every Great Building Was Once A Map.. Not Imprtant Where U r TODAY, BUT Where U Wil Reach TOMORW. Gud ni8',\n",
       " 'ham\\tDear,Me at cherthala.in case u r coming cochin pls call bfore u start.i shall also reach accordingly.or tell me which day u r coming.tmorow i am engaged ans its holiday.',\n",
       " 'ham\\tThanks love. But am i doing torch or bold.',\n",
       " 'spam\\t<Forwarded from 448712404000>Please CALL 08712404000 immediately as there is an urgent message waiting for you.',\n",
       " 'ham\\tWas the farm open?',\n",
       " 'ham\\tSorry to trouble u again. Can buy 4d for my dad again? 1405, 1680, 1843. All 2 big 1 small, sat n sun. Thanx.',\n",
       " 'ham\\tMy sister in law, hope you are having a great month. Just saying hey. Abiola',\n",
       " 'ham\\tWill purchase d stuff today and mail to you. Do you have a po box number?',\n",
       " 'ham\\tAh poop. Looks like ill prob have to send in my laptop to get fixed cuz it has a gpu problem',\n",
       " 'ham\\tGood. Good job. I like entrepreneurs',\n",
       " \"ham\\tAight, you close by or still down around alex's place?\",\n",
       " 'ham\\tmeet you in corporation st outside gap … you can see how my mind is working!',\n",
       " 'ham\\tMum ask ü to buy food home...',\n",
       " 'ham\\tK..u also dont msg or reply to his msg..',\n",
       " 'ham\\tHow much r ü willing to pay?',\n",
       " \"ham\\tSorry, I'll call later\",\n",
       " 'ham\\tWhat is important is that you prevent dehydration by giving her enough fluids',\n",
       " 'ham\\tThats a bit weird, even ?- where is the do supposed to be happening? But good idea, sure they will be in pub!',\n",
       " \"ham\\tTrue dear..i sat to pray evening and felt so.so i sms'd you in some time...\",\n",
       " \"ham\\tI don't think I can get away for a trek that long with family in town, sorry\",\n",
       " 'ham\\tSo when do you wanna gym harri',\n",
       " 'ham\\tQuite late lar... Ard 12 anyway i wun b drivin...',\n",
       " 'spam\\tTo review and KEEP the fantastic Nokia N-Gage game deck with Club Nokia, go 2 www.cnupdates.com/newsletter. unsubscribe from alerts reply with the word OUT',\n",
       " 'spam\\t4mths half price Orange line rental & latest camera phones 4 FREE. Had your phone 11mths+? Call MobilesDirect free on 08000938767 to update now! or2stoptxt T&Cs',\n",
       " 'ham\\tHeight of Confidence: All the Aeronautics professors wer calld &amp; they wer askd 2 sit in an aeroplane. Aftr they sat they wer told dat the plane ws made by their students. Dey all hurried out of d plane.. Bt only 1 didnt move... He said:\"if it is made by my students,this wont even start........ Datz confidence..',\n",
       " 'ham\\tIt just seems like weird timing that the night that all you and g want is for me to come smoke is the same day as when a shitstorm is attributed to me always coming over and making everyone smoke',\n",
       " 'spam\\t08714712388 between 10am-7pm Cost 10p',\n",
       " 'ham\\tSave yourself the stress. If the person has a dorm account, just send your account details and the money will be sent to you.',\n",
       " 'ham\\tHe also knows about lunch menu only da. . I know',\n",
       " 'ham\\tWhen i have stuff to sell i.ll tell you',\n",
       " 'spam\\t+449071512431 URGENT! This is the 2nd attempt to contact U!U have WON £1250 CALL 09071512433 b4 050703 T&CsBCM4235WC1N3XX. callcost 150ppm mobilesvary. max£7. 50',\n",
       " \"ham\\tBook which lesson? then you msg me... I will call up after work or sth... I'm going to get specs. My membership is PX3748\",\n",
       " 'spam\\tYou have WON a guaranteed £1000 cash or a £2000 prize. To claim yr prize call our customer service representative on 08714712394 between 10am-7pm',\n",
       " 'ham\\tMacha dont feel upset.i can assume your mindset.believe me one evening with me and i have some wonderful plans for both of us.LET LIFE BEGIN AGAIN.call me anytime',\n",
       " 'ham\\tOh is it? Send me the address',\n",
       " \"ham\\tS'fine. Anytime. All the best with it.\",\n",
       " 'ham\\tThat is wondar full flim.',\n",
       " 'ham\\tYa even those cookies have jelly on them',\n",
       " 'ham\\tThe world is running and i am still.maybe all are feeling the same,so be it.or i have to admit,i am mad.then where is the correction?or let me call this is life.and keep running with the world,may be u r also running.lets run.',\n",
       " 'ham\\tGot it! It looks scrumptious... daddy wants to eat you all night long!',\n",
       " \"ham\\tOf cos can lar i'm not so ba dao ok... 1 pm lor... Y u never ask where we go ah... I said u would ask on fri but he said u will ask today...\",\n",
       " 'ham\\tAlright omw, gotta change my order to a half8th',\n",
       " 'ham\\tExactly. Anyways how far. Is jide her to study or just visiting',\n",
       " 'ham\\tDunno y u ask me.',\n",
       " 'spam\\tEmail AlertFrom: Jeri StewartSize: 2KBSubject: Low-cost prescripiton drvgsTo listen to email call 123',\n",
       " \"ham\\tNo he didn't. Spring is coming early yay!\",\n",
       " \"ham\\tLol you won't feel bad when I use her money to take you out to a steak dinner =D\",\n",
       " 'ham\\tEven u dont get in trouble while convincing..just tel him once or twice and just tel neglect his msgs dont c and read it..just dont reply',\n",
       " 'ham\\tLeaving to qatar tonite in search of an opportunity.all went fast.pls add me in ur prayers dear.Rakhesh',\n",
       " 'ham\\tThen why no one talking to me',\n",
       " 'ham\\tThanks for looking out for me. I really appreciate.',\n",
       " 'spam\\tHi. Customer Loyalty Offer:The NEW Nokia6650 Mobile from ONLY £10 at TXTAUCTION! Txt word: START to No: 81151 & get yours Now! 4T&Ctxt TC 150p/MTmsg',\n",
       " 'ham\\tWish i were with you now!',\n",
       " \"ham\\tHaha mayb u're rite... U know me well. Da feeling of being liked by someone is gd lor. U faster go find one then all gals in our group attached liao.\",\n",
       " 'ham\\tYes i will be there. Glad you made it.',\n",
       " 'ham\\tDo well :)all will for little time. Thing of good times ahead:',\n",
       " \"ham\\tJust got up. have to be out of the room very soon. …. i hadn't put the clocks back til at 8 i shouted at everyone to get up and then realised it was 7. wahay. another hour in bed.\",\n",
       " 'ham\\tOk. There may be a free gym about.',\n",
       " 'ham\\tMen like shorter ladies. Gaze up into his eyes.',\n",
       " 'ham\\tDunno he jus say go lido. Same time 930.',\n",
       " 'ham\\tI promise to take good care of you, princess. I have to run now. Please send pics when you get a chance. Ttyl!',\n",
       " 'spam\\tU are subscribed to the best Mobile Content Service in the UK for £3 per 10 days until you send STOP to 82324. Helpline 08706091795',\n",
       " \"ham\\tIs there a reason we've not spoken this year? Anyways have a great week and all the best in your exam\",\n",
       " 'ham\\tBy monday next week. Give me the full gist',\n",
       " \"spam\\tDo you realize that in about 40 years, we'll have thousands of old ladies running around with tattoos?\",\n",
       " 'spam\\tYou have an important customer service announcement from PREMIER.',\n",
       " 'ham\\tDont gimme that lip caveboy',\n",
       " 'ham\\tWhen did you get to the library',\n",
       " \"ham\\tRealy sorry-i don't recognise this number and am now confused :) who r u please?!\",\n",
       " 'ham\\tSo why didnt you holla?',\n",
       " 'ham\\tCant think of anyone with * spare room off * top of my head',\n",
       " 'ham\\tFaith makes things possible,Hope makes things work,Love makes things beautiful,May you have all three this Christmas!Merry Christmas!',\n",
       " 'ham\\tU should have made an appointment',\n",
       " \"ham\\tCall me when you/carlos is/are here, my phone's vibrate is acting up and I might not hear texts\",\n",
       " 'spam\\tRomantic Paris. 2 nights, 2 flights from £79 Book now 4 next year. Call 08704439680Ts&Cs apply.',\n",
       " 'ham\\tWe are at grandmas. Oh dear, u still ill? I felt Shit this morning but i think i am just hungover! Another night then. We leave on sat.',\n",
       " 'spam\\tUrgent Ur £500 guaranteed award is still unclaimed! Call 09066368327 NOW closingdate04/09/02 claimcode M39M51 £1.50pmmorefrommobile2Bremoved-MobyPOBox734LS27YF',\n",
       " 'ham\\tNothing but we jus tot u would ask cos u ba gua... But we went mt faber yest... Yest jus went out already mah so today not going out... Jus call lor...',\n",
       " 'ham\\tWishing you and your family Merry \"X\" mas and HAPPY NEW Year in advance..',\n",
       " 'spam\\tUR awarded a City Break and could WIN a £200 Summer Shopping spree every WK. Txt STORE to 88039 . SkilGme. TsCs087147403231Winawk!Age16 £1.50perWKsub',\n",
       " \"ham\\tI'm nt goin, got somethin on, unless they meetin 4 dinner lor... Haha, i wonder who will go tis time...\",\n",
       " \"ham\\tSorry, I'll call later\",\n",
       " 'ham\\tI cant pick the phone right now. Pls send a message',\n",
       " \"ham\\tLol I know! They're so dramatic. Schools already closed for tomorrow. Apparently we can't drive in the inch of snow were supposed to get.\",\n",
       " 'ham\\tNot getting anywhere with this damn job hunting over here!',\n",
       " 'ham\\tLol! U drunkard! Just doing my hair at d moment. Yeah still up 4 tonight. Wats the plan?',\n",
       " 'ham\\tidc get over here, you are not weaseling your way out of this shit twice in a row',\n",
       " 'ham\\tI wil be there with in  &lt;#&gt;  minutes. Got any space',\n",
       " 'ham\\tJust sleeping..and surfing',\n",
       " 'ham\\tThanks for picking up the trash.',\n",
       " \"ham\\tWhy don't you go tell your friend you're not sure you want to live with him because he smokes too much then spend hours begging him to come smoke\",\n",
       " 'ham\\t\"Hi its Kate it was lovely to see you tonight and ill phone you tomorrow. I got to sing and a guy gave me his card! xxx\"',\n",
       " 'ham\\tHappy New year my dear brother. I really do miss you. Just got your number and decided to send you this text wishing you only happiness. Abiola',\n",
       " 'ham\\tThat means get the door',\n",
       " 'ham\\tYour opinion about me? 1. Over 2. Jada 3. Kusruthi 4. Lovable 5. Silent 6. Spl character 7. Not matured 8. Stylish 9. Simple Pls reply..',\n",
       " 'ham\\tHmmm ... I thought we said 2 hours slave, not 3 ... You are late ... How should I punish you ?',\n",
       " 'ham\\tBeerage?',\n",
       " 'spam\\tYou have an important customer service announcement from PREMIER. Call FREEPHONE 0800 542 0578 now!',\n",
       " 'ham\\tDont think so. It turns off like randomlly within 5min of opening',\n",
       " \"ham\\tShe was supposed to be but couldn't make it, she's still in town though\",\n",
       " 'ham\\tIt does it on its own. Most of the time it fixes my spelling. But sometimes it gets a completely diff word. Go figure',\n",
       " 'spam\\tEver thought about living a good life with a perfect partner? Just txt back NAME and AGE to join the mobile community. (100p/SMS)',\n",
       " 'spam\\t5 Free Top Polyphonic Tones call 087018728737, National Rate. Get a toppoly tune sent every week, just text SUBPOLY to 81618, £3 per pole. UnSub 08718727870.',\n",
       " 'ham\\tGud mrng dear hav a nice day',\n",
       " \"ham\\tThis is hoping you enjoyed your game yesterday. Sorry i've not been in touch but pls know that you are fondly bein thot off. Have a great week. Abiola\",\n",
       " 'ham\\tAll e best 4 ur driving tmr :-)',\n",
       " 'ham\\tY?WHERE U AT DOGBREATH? ITS JUST SOUNDING LIKE JAN C THAT\\x92S AL!!!!!!!!!',\n",
       " 'ham\\tOmg I want to scream. I weighed myself and I lost more weight! Woohoo!',\n",
       " \"ham\\tThere generally isn't one. It's an uncountable noun - u in the dictionary. pieces of research?\",\n",
       " \"ham\\tit's really getting me down just hanging around.\",\n",
       " \"spam\\tOrange customer, you may now claim your FREE CAMERA PHONE upgrade for your loyalty. Call now on 0207 153 9996. Offer ends 14thMarch. T&C's apply. Opt-out availa\",\n",
       " 'ham\\t\"Petey boy whereare you me and all your friendsare in theKingshead come down if you canlove Nic\"',\n",
       " 'ham\\tOk i msg u b4 i leave my house.',\n",
       " 'ham\\t\"Gimme a few\" was  &lt;#&gt;  minutes ago',\n",
       " 'spam\\tLast Chance! Claim ur £150 worth of discount vouchers today! Text SHOP to 85023 now! SavaMob, offers mobile! T Cs SavaMob POBOX84, M263UZ. £3.00 Sub. 16',\n",
       " \"ham\\tAppt is at &lt;TIME&gt; am. Not my fault u don't listen. I told u twice\",\n",
       " 'spam\\tFREE for 1st week! No1 Nokia tone 4 ur mobile every week just txt NOKIA to 8077 Get txting and tell ur mates. www.getzed.co.uk POBox 36504 W45WQ 16+ norm150p/tone',\n",
       " 'spam\\tYou have won a guaranteed £200 award or even £1000 cashto claim UR award call free on 08000407165 (18+) 2 stop getstop on 88222 PHP. RG21 4JX',\n",
       " \"ham\\tK I'll be there before 4.\",\n",
       " 'ham\\tI dled 3d its very imp',\n",
       " \"ham\\tsure, but make sure he knows we ain't smokin yet\",\n",
       " 'ham\\tBoooo you always work. Just quit.',\n",
       " 'ham\\tI am taking half day leave bec i am not well',\n",
       " \"ham\\tUgh I don't wanna get out of bed. It's so warm.\",\n",
       " 'ham\\tS:)s.nervous  &lt;#&gt; :)',\n",
       " \"ham\\tSo there's a ring that comes with the guys costumes. It's there so they can gift their future yowifes. Hint hint\",\n",
       " 'spam\\tCongratulations ur awarded either £500 of CD gift vouchers & Free entry 2 our £100 weekly draw txt MUSIC to 87066 TnCs www.Ldew.com1win150ppmx3age16',\n",
       " 'ham\\tI borrow ur bag ok.',\n",
       " 'spam\\tU were outbid by simonwatson5120 on the Shinco DVD Plyr. 2 bid again, visit sms. ac/smsrewards 2 end bid notifications, reply END OUT',\n",
       " \"ham\\tWhere's my boytoy? I miss you ... What happened?\",\n",
       " \"ham\\tHe has lots of used ones babe, but the model doesn't help. Youi have to bring it over and he'll match it up\",\n",
       " 'ham\\tAlso are you bringing galileo or dobby',\n",
       " 'ham\\tThen why you not responding',\n",
       " 'ham\\t\"BOO BABE! U ENJOYIN YOURJOB? U SEEMED 2 B GETTIN ON WELL HUNNY!HOPE URE OK?TAKE CARE & I\\x92LLSPEAK 2U SOONLOTS OF LOVEME XXXX.\"',\n",
       " \"ham\\tGood afternoon starshine! How's my boytoy? Does he crave me yet? Ache to fuck me ? *sips cappuccino* I miss you babe *teasing kiss*\",\n",
       " 'ham\\tOn the road so cant txt',\n",
       " 'spam\\tSMSSERVICES. for yourinclusive text credits, pls goto www.comuk.net login= 3qxj9 unsubscribe with STOP, no extra charge. help 08702840625.COMUK. 220-CM2 9AE',\n",
       " \"spam\\t25p 4 alfie Moon's Children in need song on ur mob. Tell ur m8s. Txt Tone charity to 8007 for Nokias or Poly charity for polys: zed 08701417012 profit 2 charity.\",\n",
       " 'ham\\tHave a good evening! Ttyl',\n",
       " 'ham\\tHmm .. Bits and pieces lol ... *sighs* ...',\n",
       " 'ham\\tHahaha..use your brain dear',\n",
       " 'ham\\tHey. You got any mail?',\n",
       " 'ham\\tSorry light turned green, I meant another friend wanted  &lt;#&gt;  worth but he may not be around',\n",
       " 'ham\\tThanks for yesterday sir. You have been wonderful. Hope you enjoyed the burial. MojiBiola',\n",
       " 'spam\\tU have a secret admirer. REVEAL who thinks U R So special. Call 09065174042. To opt out Reply REVEAL STOP. 1.50 per msg recd. Cust care 07821230901',\n",
       " 'ham\\tHi mate its RV did u hav a nice hol just a message 3 say hello coz haven\\x92t sent u 1 in ages started driving so stay off roads!RVx',\n",
       " 'spam\\tDear Voucher Holder, To claim this weeks offer, at you PC please go to http://www.e-tlp.co.uk/expressoffer Ts&Cs apply. To stop texts, txt STOP to 80062',\n",
       " \"ham\\tThank you so much. When we skyped wit kz and sura, we didnt get the pleasure of your company. Hope you are good. We've given you ultimatum oh! We are countin down to aburo. Enjoy! This is the message i sent days ago\",\n",
       " 'ham\\tSurely result will offer:)',\n",
       " 'ham\\tGood Morning my Dear........... Have a great &amp; successful day.',\n",
       " 'spam\\tDo you want 750 anytime any network mins 150 text and a NEW VIDEO phone for only five pounds per week call 08002888812 or reply for delivery tomorrow',\n",
       " \"ham\\tSir, I have been late in paying rent for the past few months and had to pay a $ &lt;#&gt;  charge. I felt it would be inconsiderate of me to nag about something you give at great cost to yourself and that's why i didnt speak up. I however am in a recession and wont be able to pay the charge this month hence my askin well ahead of month's end. Can you please help. Thanks\",\n",
       " 'spam\\tWe tried to contact you re our offer of New Video Phone 750 anytime any network mins HALF PRICE Rental camcorder call 08000930705 or reply for delivery Wed',\n",
       " 'spam\\tLast chance 2 claim ur £150 worth of discount vouchers-Text YES to 85023 now!SavaMob-member offers mobile T Cs 08717898035. £3.00 Sub. 16 . Remove txt X or STOP',\n",
       " 'ham\\tI luv u soo much u don\\x92t understand how special u r 2 me ring u 2morrow luv u xxx',\n",
       " \"ham\\tPls send me a comprehensive mail about who i'm paying, when and how much.\",\n",
       " \"ham\\tOur Prashanthettan's mother passed away last night. pray for her and family.\",\n",
       " 'spam\\tUrgent! call 09066350750 from your landline. Your complimentary 4* Ibiza Holiday or 10,000 cash await collection SAE T&Cs PO BOX 434 SK3 8WP 150 ppm 18+',\n",
       " 'ham\\tK.k:)when are you going?',\n",
       " \"ham\\tMeanwhile in the shit suite: xavier decided to give us  &lt;#&gt;  seconds of warning that samantha was coming over and is playing jay's guitar to impress her or some shit. Also I don't think doug realizes I don't live here anymore\",\n",
       " \"ham\\tMy stomach has been thru so much trauma I swear I just can't eat. I better lose weight.\",\n",
       " 'ham\\tI am in office:)whats the matter..msg me now.i will call you at break:).',\n",
       " \"ham\\tYeah there's barely enough room for the two of us, x has too many fucking shoes. Sorry man, see you later\",\n",
       " \"spam\\tToday's Offer! Claim ur £150 worth of discount vouchers! Text YES to 85023 now! SavaMob, member offers mobile! T Cs 08717898035. £3.00 Sub. 16 . Unsub reply X\",\n",
       " 'ham\\tU reach orchard already? U wan 2 go buy tickets first?',\n",
       " 'ham\\tI am real, baby! I want to bring out your inner tigress...',\n",
       " 'ham\\tNo da if you run that it activate the full version da.',\n",
       " 'ham\\t\"AH POOR BABY!HOPE URFEELING BETTERSN LUV! PROBTHAT OVERDOSE OF WORK HEY GO CAREFUL SPK 2 U SN LOTS OF LOVEJEN XXX.\"',\n",
       " \"ham\\tStop the story. I've told him i've returned it and he's saying i should not re order it.\",\n",
       " 'spam\\tTalk sexy!! Make new friends or fall in love in the worlds most discreet text dating service. Just text VIP to 83110 and see who you could meet.',\n",
       " 'ham\\tGoing to take your babe out ?',\n",
       " 'ham\\tHai ana tomarrow am coming on morning.  &lt;DECIMAL&gt;  ill be there in sathy then we ll go to RTO office. Reply me after came to home.',\n",
       " 'ham\\tSpoons it is then okay?',\n",
       " 'ham\\tDid he just say somebody is named tampa',\n",
       " 'ham\\tIn work now. Going have in few min.',\n",
       " 'ham\\tYour brother is a genius',\n",
       " \"ham\\tSorry, I guess whenever I can get a hold of my connections, maybe an hour or two? I'll text you\",\n",
       " 'ham\\tDid u find out what time the bus is at coz i need to sort some stuff out.',\n",
       " 'ham\\tDude ive been seeing a lotta corvettes lately',\n",
       " 'spam\\tCongratulations ur awarded either a yrs supply of CDs from Virgin Records or a Mystery Gift GUARANTEED Call 09061104283 Ts&Cs www.smsco.net £1.50pm approx 3mins',\n",
       " \"ham\\tSame here, but I consider walls and bunkers and shit important just because I never play on peaceful but I guess your place is high enough that it don't matter\",\n",
       " 'spam\\tPRIVATE! Your 2003 Account Statement for 07808 XXXXXX shows 800 un-redeemed S. I. M. points. Call 08719899217 Identifier Code: 41685 Expires 07/11/04',\n",
       " 'spam\\tHello. We need some posh birds and chaps to user trial prods for champneys. Can i put you down? I need your address and dob asap. Ta r',\n",
       " 'spam\\tWhat do U want for Xmas? How about 100 free text messages & a new video phone with half price line rental? Call free now on 0800 0721072 to find out more!',\n",
       " 'ham\\tWell am officially in a philosophical hole, so if u wanna call am at home ready to be saved!',\n",
       " 'ham\\tIts going good...no problem..but still need little experience to understand american customer voice...',\n",
       " \"ham\\tI'll text you when I drop x off\",\n",
       " \"ham\\tUgh its been a long day. I'm exhausted. Just want to cuddle up and take a nap\",\n",
       " 'ham\\tTalk With Yourself Atleast Once In A Day...!!! Otherwise You Will Miss Your Best FRIEND In This WORLD...!!! -Shakespeare- SHESIL  &lt;#&gt;',\n",
       " 'spam\\tShop till u Drop, IS IT YOU, either 10K, 5K, £500 Cash or £100 Travel voucher, Call now, 09064011000. NTT PO Box CR01327BT fixedline Cost 150ppm mobile vary',\n",
       " 'ham\\tAre you in castor? You need to see something',\n",
       " 'spam\\tSunshine Quiz Wkly Q! Win a top Sony DVD player if u know which country Liverpool played in mid week? Txt ansr to 82277. £1.50 SP:Tyrone',\n",
       " 'spam\\tU have a secret admirer who is looking 2 make contact with U-find out who they R*reveal who thinks UR so special-call on 09058094565',\n",
       " 'spam\\tU have a Secret Admirer who is looking 2 make contact with U-find out who they R*reveal who thinks UR so special-call on 09065171142-stopsms-08',\n",
       " 'spam\\tReminder: You have not downloaded the content you have already paid for. Goto http://doit. mymoby. tv/ to collect your content.',\n",
       " \"ham\\tsee, i knew giving you a break a few times woul lead to you always wanting to miss curfew. I was gonna gibe you 'til one, but a MIDNIGHT movie is not gonna get out til after 2. You need to come home. You need to getsleep and, if anything, you need to b studdying ear training.\",\n",
       " 'ham\\tI love to give massages. I use lots of baby oil... What is your fave position?',\n",
       " 'ham\\tDude we should go sup again',\n",
       " 'ham\\tYoyyooo u know how to change permissions for a drive in mac. My usb flash drive',\n",
       " 'ham\\tGibbs unsold.mike hussey',\n",
       " 'ham\\tI like to talk pa but am not able to. I dont know y.',\n",
       " \"ham\\tY dun cut too short leh. U dun like ah? She failed. She's quite sad.\",\n",
       " 'ham\\tYou unbelievable faglord',\n",
       " 'ham\\tWife.how she knew the time of murder exactly',\n",
       " 'ham\\tWhy do you ask princess?',\n",
       " 'ham\\tI am great princess! What are you thinking about me? :)',\n",
       " 'ham\\tNutter. Cutter. Ctter. Cttergg. Cttargg. Ctargg. Ctagg. ie you',\n",
       " \"ham\\tIt's ok i noe u're busy but i'm really too bored so i msg u. I oso dunno wat colour she choose 4 me one.\",\n",
       " \"ham\\tDoesn't g have class early tomorrow and thus shouldn't be trying to smoke at  &lt;#&gt;\",\n",
       " 'ham\\tSuperb Thought- \"Be grateful that u dont have everything u want. That means u still have an opportunity to be happier tomorrow than u are today.\":-)',\n",
       " 'ham\\tHope you are having a good week. Just checking in',\n",
       " \"ham\\tI'm used to it. I just hope my agents don't drop me since i've only booked a few things this year. This whole me in boston, them in nyc was an experiment.\",\n",
       " \"ham\\tThursday night? Yeah, sure thing, we'll work it out then\",\n",
       " 'spam\\tYour free ringtone is waiting to be collected. Simply text the password \"MIX\" to 85069 to verify. Get Usher and Britney. FML, PO Box 5249, MK17 92H. 450Ppw 16',\n",
       " 'ham\\tProbably money worries. Things are coming due and i have several outstanding invoices for work i did two and three months ago.',\n",
       " 'ham\\tHow is it possible to teach you. And where.',\n",
       " 'ham\\tI wonder if your phone battery went dead ? I had to tell you, I love you babe',\n",
       " \"ham\\tLovely smell on this bus and it ain't tobacco...\",\n",
       " \"ham\\tWe're all getting worried over here, derek and taylor have already assumed the worst\",\n",
       " \"ham\\tHey what's up charles sorry about the late reply.\",\n",
       " 'spam\\tall the lastest from Stereophonics, Marley, Dizzee Racal, Libertines and The Strokes! Win Nookii games with Flirt!! Click TheMob WAP Bookmark or text WAP to 82468',\n",
       " 'ham\\tI.ll give her once i have it. Plus she said grinule greet you whenever we speak',\n",
       " 'ham\\tWHITE FUDGE OREOS ARE IN STORES',\n",
       " 'spam\\tJanuary Male Sale! Hot Gay chat now cheaper, call 08709222922. National rate from 1.5p/min cheap to 7.8p/min peak! To stop texts call 08712460324 (10p/min)',\n",
       " \"ham\\tMy love ! How come it took you so long to leave for Zaher's? I got your words on ym and was happy to see them but was sad you had left. I miss you\",\n",
       " 'ham\\tI am sorry it hurt you.',\n",
       " \"ham\\tCan't. I feel nauseous. I'm so pissed. I didn't eat any sweets all week cause today I was planning to pig out. I was dieting all week. And now I'm not hungry :/\",\n",
       " 'ham\\tOk lor but not too early. Me still having project meeting now.',\n",
       " 'ham\\tCall me da, i am waiting for your call.',\n",
       " 'ham\\tI could ask carlos if we could get more if anybody else can chip in',\n",
       " 'ham\\tWas actually about to send you a reminder today. Have a wonderful weekend',\n",
       " \"ham\\tWhen people see my msgs, They think Iam addicted to msging... They are wrong, Bcoz They don\\\\'t know that Iam addicted to my sweet Friends..!! BSLVYL\",\n",
       " 'ham\\tHey you gave them your photo when you registered for driving ah? Tmr wanna meet at yck?',\n",
       " 'ham\\tDont talk to him ever ok its my word.',\n",
       " 'ham\\tWhen u wana see it then',\n",
       " \"ham\\tOn ma way to school. Can you pls send me ashley's number\",\n",
       " 'ham\\tIt shall be fine. I have avalarr now. Will hollalater',\n",
       " \"ham\\tShe went to attend another two rounds today..but still did't reach home..\",\n",
       " 'ham\\tActually i deleted my old website..now i m blogging at magicalsongs.blogspot.com',\n",
       " 'ham\\tK, wait chikku..il send aftr  &lt;#&gt; mins',\n",
       " \"ham\\tBut I'm on a diet. And I ate 1 too many slices of pizza yesterday. Ugh I'm ALWAYS on a diet.\",\n",
       " 'ham\\tK:)i will give my kvb acc details:)',\n",
       " 'ham\\tOh all have to come ah?',\n",
       " 'spam\\tmoney!!! you r a lucky winner ! 2 claim your prize text money 2 88600 over £1million to give away ! ppt150x3+normal text rate box403 w1t1jy',\n",
       " \"ham\\tI'm really sorry i won't b able 2 do this friday.hope u can find an alternative.hope yr term's going ok:-)\",\n",
       " 'ham\\tCongratulations ore mo owo re wa. Enjoy it and i wish you many happy moments to and fro wherever you go',\n",
       " 'ham\\tSo do you have samus shoulders yet',\n",
       " \"ham\\tWhat time you think you'll have it? Need to know when I should be near campus\",\n",
       " 'spam\\tDear Matthew please call 09063440451 from a landline, your complimentary 4*Lux Tenerife holiday or £1000 CASH await collection. ppm150 SAE T&Cs Box334 SK38XH.',\n",
       " 'ham\\tThen dun wear jeans lor...',\n",
       " 'ham\\tSince when, which side, any fever, any vomitin.',\n",
       " 'ham\\tK:)k.are you in college?',\n",
       " 'spam\\tUrgent! call 09061749602 from Landline. Your complimentary 4* Tenerife Holiday or £10,000 cash await collection SAE T&Cs BOX 528 HP20 1YF 150ppm 18+',\n",
       " 'ham\\tBetter. Made up for Friday and stuffed myself like a pig yesterday. Now I feel bleh. But at least its not writhing pain kind of bleh.',\n",
       " \"ham\\tNo we sell it all so we'll have tons if coins. Then sell our coins to someone thru paypal. Voila! Money back in life pockets:)\",\n",
       " 'ham\\tTheyre doing it to lots of places. Only hospitals and medical places are safe.',\n",
       " 'spam\\tHow about getting in touch with folks waiting for company? Just txt back your NAME and AGE to opt in! Enjoy the community (150p/SMS)',\n",
       " \"ham\\tAnd also I've sorta blown him off a couple times recently so id rather not text him out of the blue looking for weed\",\n",
       " 'ham\\tI sent my scores to sophas and i had to do secondary application for a few schools. I think if you are thinking of applying, do a research on cost also. Contact joke ogunrinde, her school is one me the less expensive ones',\n",
       " 'ham\\tI cant wait to see you! How were the photos were useful? :)',\n",
       " 'spam\\tUr cash-balance is currently 500 pounds - to maximize ur cash-in now send GO to 86688 only 150p/msg. CC: 08718720201 PO BOX 114/14 TCR/W1',\n",
       " 'ham\\tHey i booked the kb on sat already... what other lessons are we going for ah? Keep your sat night free we need to meet and confirm our lodging',\n",
       " 'ham\\tChk in ur belovd ms dict',\n",
       " 'ham\\tIs that what time you want me to come?',\n",
       " \"ham\\tAwesome, lemme know whenever you're around\",\n",
       " 'ham\\tShb b ok lor... Thanx...',\n",
       " 'ham\\tBeautiful Truth against Gravity.. Read carefully: \"Our heart feels light when someone is in it.. But it feels very heavy when someone leaves it..\" GOOD NIGHT',\n",
       " \"ham\\tAlso remember to get dobby's bowl from your car\",\n",
       " 'spam\\tFilthy stories and GIRLS waiting for your',\n",
       " \"ham\\tSorry i now then c ur msg... Yar lor so poor thing... But only 4 one night... Tmr u'll have a brand new room 2 sleep in...\",\n",
       " \"ham\\tLove isn't a decision, it's a feeling. If we could decide who to love, then, life would be much simpler, but then less magical\",\n",
       " 'ham\\tWelp apparently he retired',\n",
       " \"ham\\tMy sort code is  and acc no is . The bank is natwest. Can you reply to confirm i've sent this to the right person!\",\n",
       " 'ham\\tWhere @',\n",
       " \"ham\\tU sure u can't take any sick time?\",\n",
       " 'spam\\tURGENT! We are trying to contact U. Todays draw shows that you have won a £800 prize GUARANTEED. Call 09050001808 from land line. Claim M95. Valid12hrs only',\n",
       " 'ham\\tWatching cartoon, listening music &amp; at eve had to go temple &amp; church.. What about u?',\n",
       " 'ham\\tYo chad which gymnastics class do you wanna take? The site says Christians class is full..',\n",
       " 'ham\\tAre you this much buzy',\n",
       " 'ham\\tOr better still can you catch her and let ask her if she can sell  &lt;#&gt;  for me.',\n",
       " 'ham\\tI am not sure about night menu. . . I know only about noon menu',\n",
       " 'ham\\tWhat do u want when i come back?.a beautiful necklace as a token of my heart for you.thats what i will give but ONLY to MY WIFE OF MY LIKING.BE THAT AND SEE..NO ONE can give you that.dont call me.i will wait till i come.',\n",
       " 'ham\\tAre you willing to go for aptitude class.',\n",
       " 'ham\\tIt wont b until 2.15 as trying 2 sort house out, is that ok?',\n",
       " 'ham\\tYar lor he wan 2 go c horse racing today mah, so eat earlier lor. I ate chicken rice. U?',\n",
       " 'ham\\tHaha awesome, omw back now then',\n",
       " 'ham\\tYup i thk so until e shop closes lor.',\n",
       " 'ham\\twhat is your account number?',\n",
       " 'ham\\tEh u send wrongly lar...',\n",
       " 'ham\\tHey no I ad a crap nite was borin without ya 2 boggy with me u boring biatch! Thanx but u wait til nxt time il ave ya',\n",
       " 'ham\\tOk i shall talk to him',\n",
       " 'ham\\tDont hesitate. You know this is the second time she has had weakness like that. So keep i notebook of what she eat and did the day before or if anything changed the day before so that we can be sure its nothing',\n",
       " 'ham\\tHey you can pay. With salary de. Only  &lt;#&gt; .',\n",
       " 'ham\\tAnother month. I need chocolate weed and alcohol.',\n",
       " 'ham\\tIf he started searching he will get job in few days.he have great potential and talent.',\n",
       " 'ham\\tReckon need to be in town by eightish to walk from * carpark.',\n",
       " 'spam\\tCongrats! 2 mobile 3G Videophones R yours. call 09063458130 now! videochat wid your mates, play java games, Dload polyPH music, noline rentl.',\n",
       " 'ham\\tLOOK AT THE FUCKIN TIME. WHAT THE FUCK YOU THINK IS UP',\n",
       " 'ham\\tYo guess what I just dropped',\n",
       " \"ham\\tCarlos says he'll be at mu in  &lt;#&gt;  minutes\",\n",
       " \"ham\\tI'm in office now . I will call you  &lt;#&gt;  min:)\",\n",
       " \"ham\\tGeeee ... I miss you already, you know ? Your all I can think about. Fuck, I can't wait till next year when we will be together ... *loving kiss*\",\n",
       " 'ham\\tYun ah.the ubi one say if ü wan call by tomorrow.call 67441233 look for irene.ere only got bus8,22,65,61,66,382. Ubi cres,ubi tech park.6ph for 1st 5wkg days.èn',\n",
       " 'ham\\tUgh. Gotta drive back to sd from la. My butt is sore.',\n",
       " 'ham\\t26th OF JULY',\n",
       " 'ham\\tHi im having the most relaxing time ever! we have to get up at 7am every day! was the party good the other night? I get home tomorrow at 5ish.',\n",
       " 'ham\\tUp to ü... Ü wan come then come lor... But i din c any stripes skirt...',\n",
       " 'ham\\tThe Xmas story is peace.. The Xmas msg is love.. The Xmas miracle is jesus.. Hav a blessed month ahead &amp; wish U Merry Xmas...',\n",
       " \"ham\\tI can't, I don't have her number!\",\n",
       " \"ham\\tChange again... It's e one next to escalator...\",\n",
       " \"ham\\tYetunde i'm in class can you not run water on it to make it ok. Pls now.\",\n",
       " 'ham\\tNot a lot has happened here. Feels very quiet. Beth is at her aunts and charlie is working lots. Just me and helen in at the mo. How have you been?',\n",
       " 'ham\\tThen ü wait 4 me at bus stop aft ur lect lar. If i dun c ü then i go get my car then come back n pick ü.',\n",
       " ...]"
      ]
     },
     "execution_count": 4,
     "metadata": {},
     "output_type": "execute_result"
    }
   ],
   "source": [
    "messages"
   ]
  },
  {
   "cell_type": "code",
   "execution_count": 5,
   "metadata": {},
   "outputs": [
    {
     "data": {
      "text/plain": [
       "5574"
      ]
     },
     "execution_count": 5,
     "metadata": {},
     "output_type": "execute_result"
    }
   ],
   "source": [
    "len(messages)"
   ]
  },
  {
   "cell_type": "code",
   "execution_count": 6,
   "metadata": {},
   "outputs": [
    {
     "data": {
      "text/plain": [
       "'ham\\tGo until jurong point, crazy.. Available only in bugis n great world la e buffet... Cine there got amore wat...'"
      ]
     },
     "execution_count": 6,
     "metadata": {},
     "output_type": "execute_result"
    }
   ],
   "source": [
    "messages[0]"
   ]
  },
  {
   "cell_type": "code",
   "execution_count": 7,
   "metadata": {},
   "outputs": [
    {
     "name": "stdout",
     "output_type": "stream",
     "text": [
      "0 ham\tGo until jurong point, crazy.. Available only in bugis n great world la e buffet... Cine there got amore wat...\n",
      "\n",
      "\n",
      "1 ham\tOk lar... Joking wif u oni...\n",
      "\n",
      "\n",
      "2 spam\tFree entry in 2 a wkly comp to win FA Cup final tkts 21st May 2005. Text FA to 87121 to receive entry question(std txt rate)T&C's apply 08452810075over18's\n",
      "\n",
      "\n",
      "3 ham\tU dun say so early hor... U c already then say...\n",
      "\n",
      "\n",
      "4 ham\tNah I don't think he goes to usf, he lives around here though\n",
      "\n",
      "\n",
      "5 spam\tFreeMsg Hey there darling it's been 3 week's now and no word back! I'd like some fun you up for it still? Tb ok! XxX std chgs to send, £1.50 to rcv\n",
      "\n",
      "\n",
      "6 ham\tEven my brother is not like to speak with me. They treat me like aids patent.\n",
      "\n",
      "\n",
      "7 ham\tAs per your request 'Melle Melle (Oru Minnaminunginte Nurungu Vettam)' has been set as your callertune for all Callers. Press *9 to copy your friends Callertune\n",
      "\n",
      "\n",
      "8 spam\tWINNER!! As a valued network customer you have been selected to receivea £900 prize reward! To claim call 09061701461. Claim code KL341. Valid 12 hours only.\n",
      "\n",
      "\n",
      "9 spam\tHad your mobile 11 months or more? U R entitled to Update to the latest colour mobiles with camera for Free! Call The Mobile Update Co FREE on 08002986030\n",
      "\n",
      "\n",
      "10 ham\tI'm gonna be home soon and i don't want to talk about this stuff anymore tonight, k? I've cried enough today.\n",
      "\n",
      "\n",
      "11 spam\tSIX chances to win CASH! From 100 to 20,000 pounds txt> CSH11 and send to 87575. Cost 150p/day, 6days, 16+ TsandCs apply Reply HL 4 info\n",
      "\n",
      "\n",
      "12 spam\tURGENT! You have won a 1 week FREE membership in our £100,000 Prize Jackpot! Txt the word: CLAIM to No: 81010 T&C www.dbuk.net LCCLTD POBOX 4403LDNW1A7RW18\n",
      "\n",
      "\n",
      "13 ham\tI've been searching for the right words to thank you for this breather. I promise i wont take your help for granted and will fulfil my promise. You have been wonderful and a blessing at all times.\n",
      "\n",
      "\n",
      "14 ham\tI HAVE A DATE ON SUNDAY WITH WILL!!\n",
      "\n",
      "\n"
     ]
    }
   ],
   "source": [
    "for messagem_number, message in enumerate(messages[:15]):\n",
    "    print(messagem_number, message)\n",
    "    print('\\n')"
   ]
  },
  {
   "cell_type": "code",
   "execution_count": 9,
   "metadata": {},
   "outputs": [],
   "source": [
    "import pandas as pd\n",
    "messages = pd.read_csv('smsspamcollection/SMSSpamCollection', sep='\\t', names=['label', 'message'])"
   ]
  },
  {
   "cell_type": "code",
   "execution_count": 12,
   "metadata": {},
   "outputs": [
    {
     "data": {
      "text/html": [
       "<div>\n",
       "<style scoped>\n",
       "    .dataframe tbody tr th:only-of-type {\n",
       "        vertical-align: middle;\n",
       "    }\n",
       "\n",
       "    .dataframe tbody tr th {\n",
       "        vertical-align: top;\n",
       "    }\n",
       "\n",
       "    .dataframe thead th {\n",
       "        text-align: right;\n",
       "    }\n",
       "</style>\n",
       "<table border=\"1\" class=\"dataframe\">\n",
       "  <thead>\n",
       "    <tr style=\"text-align: right;\">\n",
       "      <th></th>\n",
       "      <th>label</th>\n",
       "      <th>message</th>\n",
       "    </tr>\n",
       "  </thead>\n",
       "  <tbody>\n",
       "    <tr>\n",
       "      <th>count</th>\n",
       "      <td>5572</td>\n",
       "      <td>5572</td>\n",
       "    </tr>\n",
       "    <tr>\n",
       "      <th>unique</th>\n",
       "      <td>2</td>\n",
       "      <td>5169</td>\n",
       "    </tr>\n",
       "    <tr>\n",
       "      <th>top</th>\n",
       "      <td>ham</td>\n",
       "      <td>Sorry, I'll call later</td>\n",
       "    </tr>\n",
       "    <tr>\n",
       "      <th>freq</th>\n",
       "      <td>4825</td>\n",
       "      <td>30</td>\n",
       "    </tr>\n",
       "  </tbody>\n",
       "</table>\n",
       "</div>"
      ],
      "text/plain": [
       "       label                 message\n",
       "count   5572                    5572\n",
       "unique     2                    5169\n",
       "top      ham  Sorry, I'll call later\n",
       "freq    4825                      30"
      ]
     },
     "execution_count": 12,
     "metadata": {},
     "output_type": "execute_result"
    }
   ],
   "source": [
    "messages.describe()"
   ]
  },
  {
   "cell_type": "code",
   "execution_count": 13,
   "metadata": {},
   "outputs": [
    {
     "data": {
      "text/html": [
       "<div>\n",
       "<style scoped>\n",
       "    .dataframe tbody tr th:only-of-type {\n",
       "        vertical-align: middle;\n",
       "    }\n",
       "\n",
       "    .dataframe tbody tr th {\n",
       "        vertical-align: top;\n",
       "    }\n",
       "\n",
       "    .dataframe thead tr th {\n",
       "        text-align: left;\n",
       "    }\n",
       "\n",
       "    .dataframe thead tr:last-of-type th {\n",
       "        text-align: right;\n",
       "    }\n",
       "</style>\n",
       "<table border=\"1\" class=\"dataframe\">\n",
       "  <thead>\n",
       "    <tr>\n",
       "      <th></th>\n",
       "      <th colspan=\"4\" halign=\"left\">message</th>\n",
       "    </tr>\n",
       "    <tr>\n",
       "      <th></th>\n",
       "      <th>count</th>\n",
       "      <th>unique</th>\n",
       "      <th>top</th>\n",
       "      <th>freq</th>\n",
       "    </tr>\n",
       "    <tr>\n",
       "      <th>label</th>\n",
       "      <th></th>\n",
       "      <th></th>\n",
       "      <th></th>\n",
       "      <th></th>\n",
       "    </tr>\n",
       "  </thead>\n",
       "  <tbody>\n",
       "    <tr>\n",
       "      <th>ham</th>\n",
       "      <td>4825</td>\n",
       "      <td>4516</td>\n",
       "      <td>Sorry, I'll call later</td>\n",
       "      <td>30</td>\n",
       "    </tr>\n",
       "    <tr>\n",
       "      <th>spam</th>\n",
       "      <td>747</td>\n",
       "      <td>653</td>\n",
       "      <td>Please call our customer service representativ...</td>\n",
       "      <td>4</td>\n",
       "    </tr>\n",
       "  </tbody>\n",
       "</table>\n",
       "</div>"
      ],
      "text/plain": [
       "      message                                                               \n",
       "        count unique                                                top freq\n",
       "label                                                                       \n",
       "ham      4825   4516                             Sorry, I'll call later   30\n",
       "spam      747    653  Please call our customer service representativ...    4"
      ]
     },
     "execution_count": 13,
     "metadata": {},
     "output_type": "execute_result"
    }
   ],
   "source": [
    "messages.groupby('label').describe()"
   ]
  },
  {
   "cell_type": "code",
   "execution_count": 15,
   "metadata": {},
   "outputs": [],
   "source": [
    "import matplotlib.pyplot as plt\n",
    "import seaborn as sns\n",
    "\n",
    "%matplotlib inline"
   ]
  },
  {
   "cell_type": "code",
   "execution_count": 16,
   "metadata": {},
   "outputs": [],
   "source": [
    "messages['lenght'] = messages['message'].apply(len)"
   ]
  },
  {
   "cell_type": "code",
   "execution_count": 18,
   "metadata": {},
   "outputs": [
    {
     "data": {
      "text/html": [
       "<div>\n",
       "<style scoped>\n",
       "    .dataframe tbody tr th:only-of-type {\n",
       "        vertical-align: middle;\n",
       "    }\n",
       "\n",
       "    .dataframe tbody tr th {\n",
       "        vertical-align: top;\n",
       "    }\n",
       "\n",
       "    .dataframe thead th {\n",
       "        text-align: right;\n",
       "    }\n",
       "</style>\n",
       "<table border=\"1\" class=\"dataframe\">\n",
       "  <thead>\n",
       "    <tr style=\"text-align: right;\">\n",
       "      <th></th>\n",
       "      <th>label</th>\n",
       "      <th>message</th>\n",
       "      <th>lenght</th>\n",
       "    </tr>\n",
       "  </thead>\n",
       "  <tbody>\n",
       "    <tr>\n",
       "      <th>0</th>\n",
       "      <td>ham</td>\n",
       "      <td>Go until jurong point, crazy.. Available only ...</td>\n",
       "      <td>111</td>\n",
       "    </tr>\n",
       "    <tr>\n",
       "      <th>1</th>\n",
       "      <td>ham</td>\n",
       "      <td>Ok lar... Joking wif u oni...</td>\n",
       "      <td>29</td>\n",
       "    </tr>\n",
       "    <tr>\n",
       "      <th>2</th>\n",
       "      <td>spam</td>\n",
       "      <td>Free entry in 2 a wkly comp to win FA Cup fina...</td>\n",
       "      <td>155</td>\n",
       "    </tr>\n",
       "    <tr>\n",
       "      <th>3</th>\n",
       "      <td>ham</td>\n",
       "      <td>U dun say so early hor... U c already then say...</td>\n",
       "      <td>49</td>\n",
       "    </tr>\n",
       "    <tr>\n",
       "      <th>4</th>\n",
       "      <td>ham</td>\n",
       "      <td>Nah I don't think he goes to usf, he lives aro...</td>\n",
       "      <td>61</td>\n",
       "    </tr>\n",
       "  </tbody>\n",
       "</table>\n",
       "</div>"
      ],
      "text/plain": [
       "  label                                            message  lenght\n",
       "0   ham  Go until jurong point, crazy.. Available only ...     111\n",
       "1   ham                      Ok lar... Joking wif u oni...      29\n",
       "2  spam  Free entry in 2 a wkly comp to win FA Cup fina...     155\n",
       "3   ham  U dun say so early hor... U c already then say...      49\n",
       "4   ham  Nah I don't think he goes to usf, he lives aro...      61"
      ]
     },
     "execution_count": 18,
     "metadata": {},
     "output_type": "execute_result"
    }
   ],
   "source": [
    "messages.head()"
   ]
  },
  {
   "cell_type": "code",
   "execution_count": 20,
   "metadata": {},
   "outputs": [
    {
     "data": {
      "text/plain": [
       "<matplotlib.axes._subplots.AxesSubplot at 0x7f316fcb40f0>"
      ]
     },
     "execution_count": 20,
     "metadata": {},
     "output_type": "execute_result"
    },
    {
     "data": {
      "image/png": "[encoded data removed]",
      "text/plain": [
       "<Figure size 864x576 with 1 Axes>"
      ]
     },
     "metadata": {
      "needs_background": "light"
     },
     "output_type": "display_data"
    }
   ],
   "source": [
    "plt.figure(figsize=(12,8))\n",
    "messages['lenght'].plot(kind='hist', bins=150)"
   ]
  },
  {
   "cell_type": "code",
   "execution_count": 21,
   "metadata": {},
   "outputs": [
    {
     "data": {
      "text/plain": [
       "count    5572.000000\n",
       "mean       80.489950\n",
       "std        59.942907\n",
       "min         2.000000\n",
       "25%        36.000000\n",
       "50%        62.000000\n",
       "75%       122.000000\n",
       "max       910.000000\n",
       "Name: lenght, dtype: float64"
      ]
     },
     "execution_count": 21,
     "metadata": {},
     "output_type": "execute_result"
    }
   ],
   "source": [
    "messages.lenght.describe()"
   ]
  },
  {
   "cell_type": "code",
   "execution_count": 22,
   "metadata": {},
   "outputs": [
    {
     "data": {
      "text/plain": [
       "\"For me the love should start with attraction.i should feel that I need her every time around me.she should be the first thing which comes in my thoughts.I would start the day and end it with her.she should be there every time I dream.love will be then when my every breath has her name.my life should happen around her.my life will be named to her.I would cry for her.will give all my happiness and take all her sorrows.I will be ready to fight with anyone for her.I will be in love when I will be doing the craziest things for her.love will be when I don't have to proove anyone that my girl is the most beautiful lady on the whole planet.I will always be singing praises for her.love will be when I start up making chicken curry and end up makiing sambar.life will be the most beautiful then.will get every morning and thank god for the day because she is with me.I would like to say a lot..will tell later..\""
      ]
     },
     "execution_count": 22,
     "metadata": {},
     "output_type": "execute_result"
    }
   ],
   "source": [
    "messages[messages['lenght'] == 910]['message'].iloc[0]"
   ]
  },
  {
   "cell_type": "code",
   "execution_count": 24,
   "metadata": {},
   "outputs": [
    {
     "data": {
      "text/plain": [
       "array([<matplotlib.axes._subplots.AxesSubplot object at 0x7f316bfd9278>,\n",
       "       <matplotlib.axes._subplots.AxesSubplot object at 0x7f316bda9518>],\n",
       "      dtype=object)"
      ]
     },
     "execution_count": 24,
     "metadata": {},
     "output_type": "execute_result"
    },
    {
     "data": {
      "image/png": "[encoded data removed]",
      "text/plain": [
       "<Figure size 864x576 with 2 Axes>"
      ]
     },
     "metadata": {
      "needs_background": "light"
     },
     "output_type": "display_data"
    }
   ],
   "source": [
    "#plt.figure(figsize=(12,8))\n",
    "messages.hist(column='lenght', bins=100, by='label', figsize=(12,8))"
   ]
  },
  {
   "cell_type": "markdown",
   "metadata": {},
   "source": [
    "## Pré Processamento de texto"
   ]
  },
  {
   "cell_type": "code",
   "execution_count": 41,
   "metadata": {},
   "outputs": [],
   "source": [
    "#eliminando a pontuação\n",
    "\n",
    "import string\n",
    "\n",
    "mess = 'Sample message! Notice: it has punctuation.'\n",
    "\n",
    "# Retira pontuações\n",
    "nopunc = [char for char in mess if char not in string.punctuation]\n",
    "\n",
    "# Junta novamente os caracteres para formar um string e não uma lista\n",
    "nopunc = ''.join(nopunc)"
   ]
  },
  {
   "cell_type": "code",
   "execution_count": 42,
   "metadata": {},
   "outputs": [
    {
     "data": {
      "text/plain": [
       "'Sample message Notice it has punctuation'"
      ]
     },
     "execution_count": 42,
     "metadata": {},
     "output_type": "execute_result"
    }
   ],
   "source": [
    "nopunc"
   ]
  },
  {
   "cell_type": "code",
   "execution_count": 43,
   "metadata": {},
   "outputs": [
    {
     "data": {
      "text/plain": [
       "['Sample', 'message', 'Notice', 'it', 'has', 'punctuation']"
      ]
     },
     "execution_count": 43,
     "metadata": {},
     "output_type": "execute_result"
    }
   ],
   "source": [
    "nopunc.split()"
   ]
  },
  {
   "cell_type": "code",
   "execution_count": 44,
   "metadata": {},
   "outputs": [],
   "source": [
    "from nltk.corpus import stopwords"
   ]
  },
  {
   "cell_type": "code",
   "execution_count": 45,
   "metadata": {},
   "outputs": [
    {
     "data": {
      "text/plain": [
       "['i',\n",
       " 'me',\n",
       " 'my',\n",
       " 'myself',\n",
       " 'we',\n",
       " 'our',\n",
       " 'ours',\n",
       " 'ourselves',\n",
       " 'you',\n",
       " \"you're\",\n",
       " \"you've\",\n",
       " \"you'll\",\n",
       " \"you'd\",\n",
       " 'your',\n",
       " 'yours',\n",
       " 'yourself',\n",
       " 'yourselves',\n",
       " 'he',\n",
       " 'him',\n",
       " 'his',\n",
       " 'himself',\n",
       " 'she',\n",
       " \"she's\",\n",
       " 'her',\n",
       " 'hers',\n",
       " 'herself',\n",
       " 'it',\n",
       " \"it's\",\n",
       " 'its',\n",
       " 'itself',\n",
       " 'they',\n",
       " 'them',\n",
       " 'their',\n",
       " 'theirs',\n",
       " 'themselves',\n",
       " 'what',\n",
       " 'which',\n",
       " 'who',\n",
       " 'whom',\n",
       " 'this',\n",
       " 'that',\n",
       " \"that'll\",\n",
       " 'these',\n",
       " 'those',\n",
       " 'am',\n",
       " 'is',\n",
       " 'are',\n",
       " 'was',\n",
       " 'were',\n",
       " 'be',\n",
       " 'been',\n",
       " 'being',\n",
       " 'have',\n",
       " 'has',\n",
       " 'had',\n",
       " 'having',\n",
       " 'do',\n",
       " 'does',\n",
       " 'did',\n",
       " 'doing',\n",
       " 'a',\n",
       " 'an',\n",
       " 'the',\n",
       " 'and',\n",
       " 'but',\n",
       " 'if',\n",
       " 'or',\n",
       " 'because',\n",
       " 'as',\n",
       " 'until',\n",
       " 'while',\n",
       " 'of',\n",
       " 'at',\n",
       " 'by',\n",
       " 'for',\n",
       " 'with',\n",
       " 'about',\n",
       " 'against',\n",
       " 'between',\n",
       " 'into',\n",
       " 'through',\n",
       " 'during',\n",
       " 'before',\n",
       " 'after',\n",
       " 'above',\n",
       " 'below',\n",
       " 'to',\n",
       " 'from',\n",
       " 'up',\n",
       " 'down',\n",
       " 'in',\n",
       " 'out',\n",
       " 'on',\n",
       " 'off',\n",
       " 'over',\n",
       " 'under',\n",
       " 'again',\n",
       " 'further',\n",
       " 'then',\n",
       " 'once',\n",
       " 'here',\n",
       " 'there',\n",
       " 'when',\n",
       " 'where',\n",
       " 'why',\n",
       " 'how',\n",
       " 'all',\n",
       " 'any',\n",
       " 'both',\n",
       " 'each',\n",
       " 'few',\n",
       " 'more',\n",
       " 'most',\n",
       " 'other',\n",
       " 'some',\n",
       " 'such',\n",
       " 'no',\n",
       " 'nor',\n",
       " 'not',\n",
       " 'only',\n",
       " 'own',\n",
       " 'same',\n",
       " 'so',\n",
       " 'than',\n",
       " 'too',\n",
       " 'very',\n",
       " 's',\n",
       " 't',\n",
       " 'can',\n",
       " 'will',\n",
       " 'just',\n",
       " 'don',\n",
       " \"don't\",\n",
       " 'should',\n",
       " \"should've\",\n",
       " 'now',\n",
       " 'd',\n",
       " 'll',\n",
       " 'm',\n",
       " 'o',\n",
       " 're',\n",
       " 've',\n",
       " 'y',\n",
       " 'ain',\n",
       " 'aren',\n",
       " \"aren't\",\n",
       " 'couldn',\n",
       " \"couldn't\",\n",
       " 'didn',\n",
       " \"didn't\",\n",
       " 'doesn',\n",
       " \"doesn't\",\n",
       " 'hadn',\n",
       " \"hadn't\",\n",
       " 'hasn',\n",
       " \"hasn't\",\n",
       " 'haven',\n",
       " \"haven't\",\n",
       " 'isn',\n",
       " \"isn't\",\n",
       " 'ma',\n",
       " 'mightn',\n",
       " \"mightn't\",\n",
       " 'mustn',\n",
       " \"mustn't\",\n",
       " 'needn',\n",
       " \"needn't\",\n",
       " 'shan',\n",
       " \"shan't\",\n",
       " 'shouldn',\n",
       " \"shouldn't\",\n",
       " 'wasn',\n",
       " \"wasn't\",\n",
       " 'weren',\n",
       " \"weren't\",\n",
       " 'won',\n",
       " \"won't\",\n",
       " 'wouldn',\n",
       " \"wouldn't\"]"
      ]
     },
     "execution_count": 45,
     "metadata": {},
     "output_type": "execute_result"
    }
   ],
   "source": [
    "stopwords.words('english')"
   ]
  },
  {
   "cell_type": "code",
   "execution_count": 46,
   "metadata": {},
   "outputs": [],
   "source": [
    "clean_mess = [word for word in nopunc.split() if word.lower() not in stopwords.words('english')]"
   ]
  },
  {
   "cell_type": "code",
   "execution_count": 47,
   "metadata": {},
   "outputs": [
    {
     "data": {
      "text/plain": [
       "['Sample', 'message', 'Notice', 'punctuation']"
      ]
     },
     "execution_count": 47,
     "metadata": {},
     "output_type": "execute_result"
    }
   ],
   "source": [
    "clean_mess"
   ]
  },
  {
   "cell_type": "code",
   "execution_count": 49,
   "metadata": {},
   "outputs": [],
   "source": [
    "def text_process(mess):\n",
    "    # Retira pontuações\n",
    "    nopunc = [char for char in mess if char not in string.punctuation]\n",
    "\n",
    "    # Junta novamente os caracteres para formar um string e não uma lista\n",
    "    nopunc = ''.join(nopunc)\n",
    "    \n",
    "    #Remover stopwords\n",
    "    sms = [word for word in nopunc.split() if word.lower() not in stopwords.words('english')]\n",
    "    \n",
    "    return sms"
   ]
  },
  {
   "cell_type": "code",
   "execution_count": 50,
   "metadata": {},
   "outputs": [
    {
     "data": {
      "text/html": [
       "<div>\n",
       "<style scoped>\n",
       "    .dataframe tbody tr th:only-of-type {\n",
       "        vertical-align: middle;\n",
       "    }\n",
       "\n",
       "    .dataframe tbody tr th {\n",
       "        vertical-align: top;\n",
       "    }\n",
       "\n",
       "    .dataframe thead th {\n",
       "        text-align: right;\n",
       "    }\n",
       "</style>\n",
       "<table border=\"1\" class=\"dataframe\">\n",
       "  <thead>\n",
       "    <tr style=\"text-align: right;\">\n",
       "      <th></th>\n",
       "      <th>label</th>\n",
       "      <th>message</th>\n",
       "      <th>lenght</th>\n",
       "    </tr>\n",
       "  </thead>\n",
       "  <tbody>\n",
       "    <tr>\n",
       "      <th>0</th>\n",
       "      <td>ham</td>\n",
       "      <td>Go until jurong point, crazy.. Available only ...</td>\n",
       "      <td>111</td>\n",
       "    </tr>\n",
       "    <tr>\n",
       "      <th>1</th>\n",
       "      <td>ham</td>\n",
       "      <td>Ok lar... Joking wif u oni...</td>\n",
       "      <td>29</td>\n",
       "    </tr>\n",
       "    <tr>\n",
       "      <th>2</th>\n",
       "      <td>spam</td>\n",
       "      <td>Free entry in 2 a wkly comp to win FA Cup fina...</td>\n",
       "      <td>155</td>\n",
       "    </tr>\n",
       "    <tr>\n",
       "      <th>3</th>\n",
       "      <td>ham</td>\n",
       "      <td>U dun say so early hor... U c already then say...</td>\n",
       "      <td>49</td>\n",
       "    </tr>\n",
       "    <tr>\n",
       "      <th>4</th>\n",
       "      <td>ham</td>\n",
       "      <td>Nah I don't think he goes to usf, he lives aro...</td>\n",
       "      <td>61</td>\n",
       "    </tr>\n",
       "  </tbody>\n",
       "</table>\n",
       "</div>"
      ],
      "text/plain": [
       "  label                                            message  lenght\n",
       "0   ham  Go until jurong point, crazy.. Available only ...     111\n",
       "1   ham                      Ok lar... Joking wif u oni...      29\n",
       "2  spam  Free entry in 2 a wkly comp to win FA Cup fina...     155\n",
       "3   ham  U dun say so early hor... U c already then say...      49\n",
       "4   ham  Nah I don't think he goes to usf, he lives aro...      61"
      ]
     },
     "execution_count": 50,
     "metadata": {},
     "output_type": "execute_result"
    }
   ],
   "source": [
    "messages.head()"
   ]
  },
  {
   "cell_type": "code",
   "execution_count": 52,
   "metadata": {
    "scrolled": true
   },
   "outputs": [
    {
     "data": {
      "text/plain": [
       "0    [Go, jurong, point, crazy, Available, bugis, n...\n",
       "1                       [Ok, lar, Joking, wif, u, oni]\n",
       "2    [Free, entry, 2, wkly, comp, win, FA, Cup, fin...\n",
       "3        [U, dun, say, early, hor, U, c, already, say]\n",
       "4    [Nah, dont, think, goes, usf, lives, around, t...\n",
       "Name: message, dtype: object"
      ]
     },
     "execution_count": 52,
     "metadata": {},
     "output_type": "execute_result"
    }
   ],
   "source": [
    "# Verifica para ver se está funcionando\n",
    "messages['message'].head(5).apply(text_processcess)"
   ]
  },
  {
   "cell_type": "markdown",
   "metadata": {},
   "source": [
    "## Vetorização\n",
    "\n",
    "Etapas:\n",
    "* Contar quantas vezes ocorre uma palavra em cada mensagem (conhecida como freqüência de termo)\n",
    "\n",
    "* Pesar as contagens, de modo que tokens freqüentes recebem menor peso (freqüência inversa do documento)\n",
    "\n",
    "* Normalizar os vetores para o comprimento da unidade, para abstrair do comprimento do texto original (norma L2)"
   ]
  },
  {
   "cell_type": "code",
   "execution_count": 53,
   "metadata": {},
   "outputs": [],
   "source": [
    "from sklearn.feature_extraction.text import CountVectorizer"
   ]
  },
  {
   "cell_type": "code",
   "execution_count": 58,
   "metadata": {},
   "outputs": [],
   "source": [
    "bow_transformer = CountVectorizer(analyzer = text_process).fit(messages['message'])\n",
    "# colocar numeração de quantas vezes determinada palavras aparece"
   ]
  },
  {
   "cell_type": "code",
   "execution_count": 62,
   "metadata": {},
   "outputs": [
    {
     "data": {
      "text/plain": [
       "11425"
      ]
     },
     "execution_count": 62,
     "metadata": {},
     "output_type": "execute_result"
    }
   ],
   "source": [
    "len(bow_transformer.vocabulary_)"
   ]
  },
  {
   "cell_type": "code",
   "execution_count": 63,
   "metadata": {},
   "outputs": [],
   "source": [
    "message4 = messages['message'][3]"
   ]
  },
  {
   "cell_type": "code",
   "execution_count": 64,
   "metadata": {},
   "outputs": [
    {
     "data": {
      "text/plain": [
       "'U dun say so early hor... U c already then say...'"
      ]
     },
     "execution_count": 64,
     "metadata": {},
     "output_type": "execute_result"
    }
   ],
   "source": [
    "message4"
   ]
  },
  {
   "cell_type": "code",
   "execution_count": 65,
   "metadata": {},
   "outputs": [],
   "source": [
    "bow4 = bow_transformer.transform([message4])"
   ]
  },
  {
   "cell_type": "code",
   "execution_count": 67,
   "metadata": {},
   "outputs": [
    {
     "name": "stdout",
     "output_type": "stream",
     "text": [
      "  (0, 4068)\t2\n",
      "  (0, 4629)\t1\n",
      "  (0, 5261)\t1\n",
      "  (0, 6204)\t1\n",
      "  (0, 6222)\t1\n",
      "  (0, 7186)\t1\n",
      "  (0, 9554)\t2\n",
      "(1, 11425)\n"
     ]
    }
   ],
   "source": [
    "print(bow4)\n",
    "print(bow4.shape)"
   ]
  },
  {
   "cell_type": "code",
   "execution_count": 68,
   "metadata": {},
   "outputs": [
    {
     "data": {
      "text/plain": [
       "'U'"
      ]
     },
     "execution_count": 68,
     "metadata": {},
     "output_type": "execute_result"
    }
   ],
   "source": [
    "bow_transformer.get_feature_names()[4068]"
   ]
  },
  {
   "cell_type": "code",
   "execution_count": 70,
   "metadata": {},
   "outputs": [
    {
     "data": {
      "text/plain": [
       "'already'"
      ]
     },
     "execution_count": 70,
     "metadata": {},
     "output_type": "execute_result"
    }
   ],
   "source": [
    "bow_transformer.get_feature_names()[4629]"
   ]
  },
  {
   "cell_type": "code",
   "execution_count": 72,
   "metadata": {},
   "outputs": [],
   "source": [
    "messages_bow = bow_transformer.transform(messages['message'])"
   ]
  },
  {
   "cell_type": "code",
   "execution_count": 73,
   "metadata": {},
   "outputs": [
    {
     "data": {
      "text/plain": [
       "(5572, 11425)"
      ]
     },
     "execution_count": 73,
     "metadata": {},
     "output_type": "execute_result"
    }
   ],
   "source": [
    "messages_bow.shape"
   ]
  },
  {
   "cell_type": "code",
   "execution_count": 74,
   "metadata": {},
   "outputs": [
    {
     "data": {
      "text/plain": [
       "50548"
      ]
     },
     "execution_count": 74,
     "metadata": {},
     "output_type": "execute_result"
    }
   ],
   "source": [
    "messages_bow.nnz"
   ]
  },
  {
   "cell_type": "code",
   "execution_count": 76,
   "metadata": {},
   "outputs": [
    {
     "name": "stdout",
     "output_type": "stream",
     "text": [
      "sparsity: 0.07940295412668218\n"
     ]
    }
   ],
   "source": [
    "sparsity = (100.0 * messages_bow.nnz / (messages_bow.shape[0] * messages_bow.shape[1]))\n",
    "print('sparsity: {}'.format(sparsity))"
   ]
  },
  {
   "cell_type": "code",
   "execution_count": 80,
   "metadata": {},
   "outputs": [],
   "source": [
    "from sklearn.feature_extraction.text import TfidfTransformer"
   ]
  },
  {
   "cell_type": "code",
   "execution_count": 81,
   "metadata": {},
   "outputs": [],
   "source": [
    "tdidf_transformer = TfidfTransformer()"
   ]
  },
  {
   "cell_type": "code",
   "execution_count": 82,
   "metadata": {},
   "outputs": [],
   "source": [
    "tdidf_transformer = tdidf_transformer.fit(messages_bow)"
   ]
  },
  {
   "cell_type": "code",
   "execution_count": 83,
   "metadata": {},
   "outputs": [],
   "source": [
    "tfidf4 = tdidf_transformer.transform(bow4)"
   ]
  },
  {
   "cell_type": "code",
   "execution_count": 85,
   "metadata": {},
   "outputs": [
    {
     "name": "stdout",
     "output_type": "stream",
     "text": [
      "  (0, 9554)\t0.5385626262927564\n",
      "  (0, 7186)\t0.4389365653379857\n",
      "  (0, 6222)\t0.3187216892949149\n",
      "  (0, 6204)\t0.29953799723697416\n",
      "  (0, 5261)\t0.29729957405868723\n",
      "  (0, 4629)\t0.26619801906087187\n",
      "  (0, 4068)\t0.40832589933384067\n"
     ]
    }
   ],
   "source": [
    "print(tfidf4)"
   ]
  },
  {
   "cell_type": "code",
   "execution_count": 86,
   "metadata": {},
   "outputs": [
    {
     "name": "stdout",
     "output_type": "stream",
     "text": [
      "8.527076498901426\n"
     ]
    }
   ],
   "source": [
    "print(tdidf_transformer.idf_[bow_transformer.vocabulary_['university']])"
   ]
  },
  {
   "cell_type": "markdown",
   "metadata": {},
   "source": [
    "## Treinando um modelo"
   ]
  },
  {
   "cell_type": "code",
   "execution_count": 87,
   "metadata": {},
   "outputs": [],
   "source": [
    "from sklearn.naive_bayes import MultinomialNB"
   ]
  },
  {
   "cell_type": "code",
   "execution_count": 88,
   "metadata": {},
   "outputs": [],
   "source": [
    "messages_tfidf =  tdidf_transformer.transform(messages_bow)"
   ]
  },
  {
   "cell_type": "code",
   "execution_count": 89,
   "metadata": {},
   "outputs": [],
   "source": [
    "spam_detect_model = MultinomialNB().fit(messages_tfidf, messages['label'])"
   ]
  },
  {
   "cell_type": "code",
   "execution_count": 91,
   "metadata": {},
   "outputs": [
    {
     "name": "stdout",
     "output_type": "stream",
     "text": [
      "Predito: ['ham']\n",
      "Esperado: ham\n"
     ]
    }
   ],
   "source": [
    "print('Predito:', spam_detect_model.predict(tfidf4[0]))\n",
    "print('Esperado:', messages['label'][3])"
   ]
  },
  {
   "cell_type": "markdown",
   "metadata": {},
   "source": [
    "## Divisão treino-teste"
   ]
  },
  {
   "cell_type": "code",
   "execution_count": 93,
   "metadata": {},
   "outputs": [],
   "source": [
    "from sklearn.model_selection import train_test_split\n",
    "\n",
    "msg_train, msg_test, label_train, label_test = train_test_split(messages['message'], messages['label'], test_size=0.2)"
   ]
  },
  {
   "cell_type": "code",
   "execution_count": 96,
   "metadata": {},
   "outputs": [],
   "source": [
    "from sklearn.pipeline import Pipeline\n",
    "\n",
    "pipeline = Pipeline([\n",
    "    ('bow', CountVectorizer(analyzer=text_process)),  # Tokeniza as mensagens\n",
    "    ('tfidf', TfidfTransformer()),  # Faz a transformação em TF-IDF\n",
    "    ('classifier', MultinomialNB()),  # Define a classe que realizará nossa classificação.\n",
    "])"
   ]
  },
  {
   "cell_type": "markdown",
   "metadata": {},
   "source": [
    "## Pipeline de dados"
   ]
  },
  {
   "cell_type": "code",
   "execution_count": 97,
   "metadata": {},
   "outputs": [
    {
     "data": {
      "text/plain": [
       "Pipeline(memory=None,\n",
       "     steps=[('bow', CountVectorizer(analyzer=<function text_process at 0x7f316c84d2f0>,\n",
       "        binary=False, decode_error='strict', dtype=<class 'numpy.int64'>,\n",
       "        encoding='utf-8', input='content', lowercase=True, max_df=1.0,\n",
       "        max_features=None, min_df=1, ngram_range=(1, 1), preprocessor=No...f=False, use_idf=True)), ('classifier', MultinomialNB(alpha=1.0, class_prior=None, fit_prior=True))])"
      ]
     },
     "execution_count": 97,
     "metadata": {},
     "output_type": "execute_result"
    }
   ],
   "source": [
    "pipeline.fit(msg_train, label_train)"
   ]
  },
  {
   "cell_type": "code",
   "execution_count": 98,
   "metadata": {},
   "outputs": [],
   "source": [
    "pred = pipeline.predict(msg_test)"
   ]
  },
  {
   "cell_type": "code",
   "execution_count": 99,
   "metadata": {},
   "outputs": [],
   "source": [
    "from sklearn.metrics import classification_report, confusion_matrix"
   ]
  },
  {
   "cell_type": "code",
   "execution_count": 103,
   "metadata": {},
   "outputs": [
    {
     "name": "stdout",
     "output_type": "stream",
     "text": [
      "              precision    recall  f1-score   support\n",
      "\n",
      "         ham       1.00      0.96      0.98      1014\n",
      "        spam       0.71      1.00      0.83       101\n",
      "\n",
      "   micro avg       0.96      0.96      0.96      1115\n",
      "   macro avg       0.85      0.98      0.90      1115\n",
      "weighted avg       0.97      0.96      0.97      1115\n",
      "\n"
     ]
    }
   ],
   "source": [
    "print(classification_report(pred, label_test))"
   ]
  },
  {
   "cell_type": "code",
   "execution_count": null,
   "metadata": {},
   "outputs": [],
   "source": []
  }
 ],
 "metadata": {
  "kernelspec": {
   "display_name": "Python 3",
   "language": "python",
   "name": "python3"
  },
  "language_info": {
   "codemirror_mode": {
    "name": "ipython",
    "version": 3
   },
   "file_extension": ".py",
   "mimetype": "text/x-python",
   "name": "python",
   "nbconvert_exporter": "python",
   "pygments_lexer": "ipython3",
   "version": "3.6.7"
  }
 },
 "nbformat": 4,
 "nbformat_minor": 2
}
